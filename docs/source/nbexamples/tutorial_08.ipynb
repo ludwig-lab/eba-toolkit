{
 "cells": [
  {
   "cell_type": "markdown",
   "metadata": {},
   "source": [
    "# Tutorial 08 - Working with physiological data\n",
    "\n",
    "The Phys class handles physiology data similarly to how the Ephys class handles Electrophysiology data. The Phys and Ephys classes are children of the _TsData class. The majority of methods belong to the _TsData class meaning that Phys and Ephys object inherit many of the same methods.\n",
    "\n",
    "## Pre-processing data\n",
    "\n",
    "The Phys class reads data from non-hdf5 MatLab (.mat) files. Pre-processing of raw data is necessary to transform files into this format. Software such as LabChart https://www.adinstruments.com/support/software will transform raw .adicht files into .mat files. To create the MatLab file, open LabChart and open the raw data file. Click on the 'File' dropdown in the upper left corner and select export. Set the file type to be \"MATLAB\" and select a file name and location. A window will pop up with different export options. Choose the desired channels and make sure the 'upsample to same rate' option is selected. This will ensure a consistent sample rate by interpolating data points. PyCAP currently does not support data with different sampling rates between blocks or channels.\n",
    "\n",
    "\n",
    "## Instantiating a Phys object\n",
    "\n",
    "Phys objects can be instantiated similarly to Ephys and Stim objects. Only a path name to a properly formatted .mat file is necessary.\n",
    "\n",
    "\n",
    "## TODO: find a small data set that will work with this example and update code to work with it."
   ]
  },
  {
   "cell_type": "code",
   "execution_count": 1,
   "metadata": {},
   "outputs": [],
   "source": [
    "import pyCAP\n",
    "\n",
    "# instantiate Phys object with a path name.\n",
    "path = r\"C:\\Users\\malal\\Documents\\WITNE\\pyCAP\\physdata\\STIM_HR_BP.mat\"\n",
    "data = pyCAP.Phys(path)"
   ]
  },
  {
   "cell_type": "markdown",
   "metadata": {},
   "source": [
    "## Reading in one file as multiple data sets\n",
    "\n",
    "ADInstruments data is stored in blocks of data. Each block of data represents a period of time when the recording was started and stopped. The Phys class offers the option to read in one file as multiple data sets. Each block is considered a different data set. Set the 'mult_data' parameter to True in order to read in multiple data sets from one file. The example below illustrates this concept. The ndata property represents the amount of data sets in the object."
   ]
  },
  {
   "cell_type": "code",
   "execution_count": 2,
   "metadata": {},
   "outputs": [
    {
     "name": "stdout",
     "output_type": "stream",
     "text": [
      "Number of data sets when read by file: 1\n",
      "Number of data sets when read by blocks: 22\n"
     ]
    }
   ],
   "source": [
    "# instantiate a phys object with data sets corresponding to blocks\n",
    "data_by_blocks = pyCAP.Phys(path, mult_data=True)\n",
    "\n",
    "print(\"Number of data sets when read by file: \" + str(data.ndata))\n",
    "print(\"Number of data sets when read by blocks: \" + str(data_by_blocks.ndata))"
   ]
  },
  {
   "cell_type": "markdown",
   "metadata": {},
   "source": [
    "The array property will not be affected by reading in one file as multiple data sets. This is because the arrays from each data set are concatenated across blocks when the array property is called."
   ]
  },
  {
   "cell_type": "code",
   "execution_count": 3,
   "metadata": {},
   "outputs": [
    {
     "name": "stdout",
     "output_type": "stream",
     "text": [
      "Shape of array when read by file: (3, 34605650)\n",
      "Shape of array when read by blocks: (3, 34605650)\n"
     ]
    }
   ],
   "source": [
    "print(\"Shape of array when read by file: \" + str(data.shape))\n",
    "print(\"Shape of array when read by blocks: \" + str(data_by_blocks.shape))"
   ]
  },
  {
   "cell_type": "markdown",
   "metadata": {},
   "source": [
    "Reading in one file as multiple data sets is extremely helpful when the data contains gaps in times. When the data is read in by blocks, the start and end time of each block is recorded. If there are significant gaps in time between the recording of each block, these gaps will be taken into account. If the entire file is read in as one data set, only one start and end time will be recorded. The plot below shows how gaps in time become visible when reading in data by blocks using the plot_times method."
   ]
  },
  {
   "cell_type": "code",
   "execution_count": 4,
   "metadata": {},
   "outputs": [
    {
     "data": {
      "image/png": "[encoded data removed]",
      "text/plain": [
       "<Figure size 1440x216 with 2 Axes>"
      ]
     },
     "metadata": {},
     "output_type": "display_data"
    }
   ],
   "source": [
    "import matplotlib.pyplot as plt\n",
    "\n",
    "# set up subplot and title\n",
    "fig, (ax1, ax2) = plt.subplots(1, 2, figsize = (20, 3))\n",
    "fig.suptitle(\"Time gaps become visible when reading in data by blocks\")\n",
    "\n",
    "# create time plots\n",
    "data.plot_times(axis = ax1, show = False)\n",
    "data_by_blocks.plot_times(axis = ax2, show = False)\n",
    "\n",
    "# set subplot titles\n",
    "ax1.set_title(\"data\")\n",
    "ax2.set_title(\"data_by_blocks\")\n",
    "\n",
    "# show plots\n",
    "plt.show()"
   ]
  },
  {
   "cell_type": "markdown",
   "metadata": {},
   "source": [
    "## Units in the data\n",
    "\n",
    "LabChart files exported to matlab include units for each channel and block combination. The units method is used to access these units. Calling this method creates a list of dictionaries. Each dictionary in the list represents a data set in the Phys object and each dictionary links channel names to unit values. \n",
    "\n",
    "If the units are different inside one channel between blocks, exercise caution when plotting or filtering data. The code will likely run but semantic errors are likely."
   ]
  },
  {
   "cell_type": "code",
   "execution_count": 5,
   "metadata": {},
   "outputs": [
    {
     "data": {
      "text/plain": [
       "[{'Channel 6': 'V   ', 'Channel 7': 'BPM ', 'Channel 9': 'V   '},\n",
       " {'Channel 6': 'V   ', 'Channel 7': 'BPM ', 'Channel 9': 'V   '},\n",
       " {'Channel 6': 'V   ', 'Channel 7': 'BPM ', 'Channel 9': 'V   '},\n",
       " {'Channel 6': 'V   ', 'Channel 7': 'BPM ', 'Channel 9': 'V   '},\n",
       " {'Channel 6': 'V   ', 'Channel 7': 'BPM ', 'Channel 9': 'V   '},\n",
       " {'Channel 6': 'V   ', 'Channel 7': 'BPM ', 'Channel 9': 'mmHg'},\n",
       " {'Channel 6': 'V   ', 'Channel 7': 'BPM ', 'Channel 9': 'mmHg'},\n",
       " {'Channel 6': 'V   ', 'Channel 7': 'BPM ', 'Channel 9': 'mmHg'},\n",
       " {'Channel 6': 'V   ', 'Channel 7': 'BPM ', 'Channel 9': 'mmHg'},\n",
       " {'Channel 6': 'V   ', 'Channel 7': 'BPM ', 'Channel 9': 'mmHg'},\n",
       " {'Channel 6': 'V   ', 'Channel 7': 'BPM ', 'Channel 9': 'mmHg'},\n",
       " {'Channel 6': 'V   ', 'Channel 7': 'BPM ', 'Channel 9': 'mmHg'},\n",
       " {'Channel 6': 'V   ', 'Channel 7': 'BPM ', 'Channel 9': 'mmHg'},\n",
       " {'Channel 6': 'V   ', 'Channel 7': 'BPM ', 'Channel 9': 'V   '},\n",
       " {'Channel 6': 'V   ', 'Channel 7': 'BPM ', 'Channel 9': 'mmHg'},\n",
       " {'Channel 6': 'V   ', 'Channel 7': 'BPM ', 'Channel 9': 'mmHg'},\n",
       " {'Channel 6': 'V   ', 'Channel 7': 'BPM ', 'Channel 9': 'mmHg'},\n",
       " {'Channel 6': 'V   ', 'Channel 7': 'BPM ', 'Channel 9': 'mmHg'},\n",
       " {'Channel 6': 'V   ', 'Channel 7': 'BPM ', 'Channel 9': 'mmHg'},\n",
       " {'Channel 6': 'V   ', 'Channel 7': 'BPM ', 'Channel 9': 'mmHg'},\n",
       " {'Channel 6': 'V   ', 'Channel 7': 'BPM ', 'Channel 9': 'mmHg'},\n",
       " {'Channel 6': 'V   ', 'Channel 7': 'BPM ', 'Channel 9': 'mmHg'}]"
      ]
     },
     "execution_count": 5,
     "metadata": {},
     "output_type": "execute_result"
    }
   ],
   "source": [
    "# output of the units method for data_by_blocks\n",
    "data_by_blocks.units"
   ]
  },
  {
   "cell_type": "code",
   "execution_count": 6,
   "metadata": {},
   "outputs": [
    {
     "data": {
      "text/plain": [
       "[{'Stim': 'V   ', 'HR': 'BPM '},\n",
       " {'Stim': 'V   ', 'HR': 'BPM '},\n",
       " {'Stim': 'V   ', 'HR': 'BPM '},\n",
       " {'Stim': 'V   ', 'HR': 'BPM '},\n",
       " {'Stim': 'V   ', 'HR': 'BPM '},\n",
       " {'Stim': 'V   ', 'HR': 'BPM '},\n",
       " {'Stim': 'V   ', 'HR': 'BPM '},\n",
       " {'Stim': 'V   ', 'HR': 'BPM '},\n",
       " {'Stim': 'V   ', 'HR': 'BPM '},\n",
       " {'Stim': 'V   ', 'HR': 'BPM '},\n",
       " {'Stim': 'V   ', 'HR': 'BPM '},\n",
       " {'Stim': 'V   ', 'HR': 'BPM '},\n",
       " {'Stim': 'V   ', 'HR': 'BPM '},\n",
       " {'Stim': 'V   ', 'HR': 'BPM '},\n",
       " {'Stim': 'V   ', 'HR': 'BPM '},\n",
       " {'Stim': 'V   ', 'HR': 'BPM '},\n",
       " {'Stim': 'V   ', 'HR': 'BPM '},\n",
       " {'Stim': 'V   ', 'HR': 'BPM '},\n",
       " {'Stim': 'V   ', 'HR': 'BPM '},\n",
       " {'Stim': 'V   ', 'HR': 'BPM '},\n",
       " {'Stim': 'V   ', 'HR': 'BPM '},\n",
       " {'Stim': 'V   ', 'HR': 'BPM '}]"
      ]
     },
     "execution_count": 6,
     "metadata": {},
     "output_type": "execute_result"
    }
   ],
   "source": [
    "# renaming or removing channels is automatically reflected in the results of the 'units' method.\n",
    "data_by_blocks = data_by_blocks.set_ch_names([\"Stim\", \"HR\", \"BP\"])\n",
    "data_by_blocks = data_by_blocks.remove_ch(\"BP\")\n",
    "data_by_blocks.units"
   ]
  },
  {
   "cell_type": "markdown",
   "metadata": {},
   "source": [
    "## Reading in comments from a file\n",
    "\n",
    "Files exported with LabChart have the option to include comments. The comments can be accessed with the function pyCAP.phys.get_comments. This function will return a dictionary of dictionaries with channel name and comment name as keys, and a numpy array of timestamps as values. Timestamps are in seconds since epoch. The parameter 'comtype' is used to specify the comment type. Specify 'user' for user comments, 'event' for autogenerated comments, or 'both' for both types."
   ]
  },
  {
   "cell_type": "code",
   "execution_count": 7,
   "metadata": {},
   "outputs": [
    {
     "data": {
      "text/plain": [
       "{'Stimulator': {' baseline      ': array([1.2826639e+09]),\n",
       "  ' Stim on 709Hz ': array([1.28266391e+09]),\n",
       "  ' 20 min        ': array([1.28266507e+09]),\n",
       "  ' 40 min        ': array([1.28266637e+09])},\n",
       " 'Spectrum  ': {' baseline      ': array([1.2826639e+09]),\n",
       "  ' Stim on 709Hz ': array([1.28266391e+09]),\n",
       "  ' 20 min        ': array([1.28266507e+09]),\n",
       "  ' 40 min        ': array([1.28266637e+09])},\n",
       " 'Efish     ': {' baseline      ': array([1.2826639e+09]),\n",
       "  ' Stim on 709Hz ': array([1.28266391e+09]),\n",
       "  ' 20 min        ': array([1.28266507e+09]),\n",
       "  ' 40 min        ': array([1.28266637e+09])}}"
      ]
     },
     "execution_count": 7,
     "metadata": {},
     "output_type": "execute_result"
    }
   ],
   "source": [
    "# get comments of both types and display them\n",
    "\n",
    "# TODO: this file was taken from the LabChart default examples, it must be substituted\n",
    "comment_file_path = r\"C:\\Users\\malal\\Documents\\WITNE\\pyCAP\\physdata\\KnifefishJARupsample.mat\"\n",
    "comments = pyCAP.phys.get_comments(comment_file_path, comtype=\"both\")\n",
    "comments"
   ]
  },
  {
   "cell_type": "code",
   "execution_count": 8,
   "metadata": {},
   "outputs": [
    {
     "data": {
      "text/plain": [
       "array([1.2826639e+09])"
      ]
     },
     "execution_count": 8,
     "metadata": {},
     "output_type": "execute_result"
    }
   ],
   "source": [
    "# comment dictionary can be indexed with channel and comment name\n",
    "\n",
    "# find name of the first channel and first comment\n",
    "channel = list(comments.keys())[0]\n",
    "com = list(comments[channel].keys())[0]\n",
    "\n",
    "# output numpy array corresponding to first channel and first comment\n",
    "first_comment_array = comments[channel][com]\n",
    "first_comment_array"
   ]
  },
  {
   "cell_type": "code",
   "execution_count": 9,
   "metadata": {},
   "outputs": [
    {
     "data": {
      "text/plain": [
       "datetime.datetime(2010, 8, 24, 10, 31, 41, 749542)"
      ]
     },
     "execution_count": 9,
     "metadata": {},
     "output_type": "execute_result"
    }
   ],
   "source": [
    "# The python datetime module can be used to transform the timestamps into a more readable format\n",
    "import datetime as dt\n",
    "\n",
    "# creates a datetime object from the first comment array\n",
    "dt.datetime.fromtimestamp(first_comment_array[0])"
   ]
  },
  {
   "cell_type": "markdown",
   "metadata": {},
   "source": [
    "## Troubleshooting\n",
    "\n",
    "PyCAP expects data in a specific format when reading in files. Properly exporting the data with labchart is essential in order for the code to run. When the Phys class reads in data, it expects a .mat file with the following variable names and array dimensions. The scipy.io.loadmat function is used to access the data. It creates a python dictionary with variable names as keys and numpy arrays as values. The following key-value pairs are expected with the following dimesions. The full file may contain more arrays than this, but only the following are required.\n",
    "\n",
    "### Required arrays to instantiate a Phys object\n",
    "\n",
    "* data : All raw data points (1 x number of data points array of all data points)\n",
    "\n",
    "* datastart: Array of matlab start indices for each block, channel combination (number of channels x number of blocks)\n",
    "\n",
    "* dataend: Array of matlab end indices for each block, channel combination (number of channels x number of blocks)\n",
    "\n",
    "* titles: One dimensional vector of channel names\n",
    "\n",
    "* unittext: One dimensional vector of all units\n",
    "\n",
    "* unittextmap: Array of indices linking the unittext vector to each block and channel (number of channels x number of blocks)\n",
    "\n",
    "* blocktimes: Matlab start time of each block (1 x number of blocks)\n",
    "\n",
    "* tickrate: Maximum sample rate of each block (1 x number of blocks)\n",
    "\n",
    "* samplerate: Sample rate for each channela and block combination (number of channels x number of blocks)\n",
    "\n",
    "* firstsampleoffset: Percent of the way through each block when the recording started (number of channels x number of blocks)\n",
    "\n",
    "### Optional arrays for reading in comments\n",
    "\n",
    "* com: Array of all comments (5 x number of comments)\n",
    "\n",
    "* comtext: One dimensional vector of all commment names\n",
    "\n",
    "for more information on how this data is created, visit https://www.adinstruments.com/support/knowledge-base/how-does-matlab-open-exported-data"
   ]
  },
  {
   "cell_type": "markdown",
   "metadata": {},
   "source": [
    "## Ensuring the file type is correct\n",
    "\n",
    "Incorrect File types will cause issues with the scipy.io.loadmat function. Files should be .mat files not saved in an hdf5 format. Labchart should automatically export files in a non-hdf5 format. However, later versions of MatLab will save files as hdf5 if the '-v7.3' flag is used to save. Re-exporting data from LabChart with the pre-processing steps above should create a .mat file that is readable with pyCAP.\n",
    "\n",
    "## Ensuring the arrays are formatted properly\n",
    "\n",
    "To ensure the arrays are formatted properly, check the names and dimensions of each array. The Phys class has built in warnings to access these warnings when reading in data, set the 'check' parameter in the constructor to True. The following are possible warnings:\n",
    "\n",
    " * Array formatted improperly: This warning is generated if data is not exported to the matlab file correctly and the arrays have incorrect dimensions.\n",
    "\n",
    "* NaN values in data: This warning is generated if there are NaN values in the data. This may cause problems when plotting data. Ensure that y limits are specified manually.\n",
    "\n",
    "* Inconsistent sample rates: This warning is generated when the data has inconsistent sample rates. Reading this data is not yet implemented. Ensure that data is exported with consistent sample rates.\n",
    "\n",
    "* Inconsistent units: This warning is generated when a channel has more than one unit across the experiment.\n",
    "\n",
    "* Offset in data blocks: Warns about offsets in the start time of each channel. See the 'firstsampleoffset' array at https://www.adinstruments.com/support/knowledge-base/how-does-matlab-open-exported-data for more information.\n",
    "\n",
    "\n",
    "These checks on the data ensure that code will run properly. Improperly formatted data may cause different methods to crash or return an incorrect result.\n"
   ]
  },
  {
   "cell_type": "code",
   "execution_count": 10,
   "metadata": {},
   "outputs": [
    {
     "name": "stderr",
     "output_type": "stream",
     "text": [
      "c:\\users\\malal\\documents\\witne\\pycap\\pycap\\pyCAP\\io\\adinstruments_io.py:61: UserWarning: Encountered NaN values in data\n",
      "  warnings.warn(\"Encountered NaN values in data\")\n",
      "c:\\users\\malal\\documents\\witne\\pycap\\pycap\\pyCAP\\io\\adinstruments_io.py:70: UserWarning: Inconsistent units in channel Channel 9\n",
      "  warnings.warn(\"Inconsistent units in channel {}\".format(raw_data[\"titles\"][channel]))\n"
     ]
    },
    {
     "data": {
      "text/plain": [
       "<pyCAP.phys.Phys at 0x1fd262a90c8>"
      ]
     },
     "execution_count": 10,
     "metadata": {},
     "output_type": "execute_result"
    }
   ],
   "source": [
    "# read in the data, but warn of any potent\n",
    "pyCAP.Phys(path, check=True)\n",
    "\n",
    "# This data set has NaN values and inconsistent units in a channel"
   ]
  },
  {
   "cell_type": "markdown",
   "metadata": {},
   "source": [
    "## Dealing with improperly formatted arrays\n",
    "\n",
    "When instantiating a Phys object, array names and dimensions will automatically be checked. A warning will be generated if the name or dimensions of one of the required arrays is incorrect. LabChart 7 has in issue with exporting timestamps on Macintosh computers. \n",
    "\n",
    "The two options for dealing with improperly formatted data are to try re-exporting the data or fixing the broken arrays manually and passing them to the to_array or to_meta functions.\n",
    "\n",
    "Support for ADInstruments Labchart 7 on Macintosh:\n",
    "https://www.adinstruments.com/support/knowledge-base/why-are-timestamps-missing-matlab-when-i-export-my-labchart-7-file-matlab\n",
    "\n",
    "### Manually creating a Phys object\n",
    "\n",
    "Phys objects can also be instantiated with data and metadata instead of a file name. The following code can be used to create objects with a greater degree of customization if the automated code fails. This technique can also be used to modify channel names, units, or other properties before. Note that this process will not generate warnings about bad data unless the function check_data is called.\n",
    "\n",
    "The function that pyCAP uses to read .mat files is the scipy.io.loadmat function. This function returns a dictionary with each key as a variable name and each value as a numpy array. The following example reads in data with this function and prints the name and dimensions of every array in the file."
   ]
  },
  {
   "cell_type": "code",
   "execution_count": 11,
   "metadata": {},
   "outputs": [
    {
     "name": "stdout",
     "output_type": "stream",
     "text": [
      "array 'data' with shape (1, 103816950)\n",
      "array 'datastart' with shape (3, 22)\n",
      "array 'dataend' with shape (3, 22)\n",
      "array 'titles' with shape (3,)\n",
      "array 'rangemin' with shape (3, 22)\n",
      "array 'rangemax' with shape (3, 22)\n",
      "array 'unittext' with shape (3,)\n",
      "array 'unittextmap' with shape (3, 22)\n",
      "array 'blocktimes' with shape (1, 22)\n",
      "array 'tickrate' with shape (1, 22)\n",
      "array 'samplerate' with shape (3, 22)\n",
      "array 'firstsampleoffset' with shape (3, 22)\n"
     ]
    }
   ],
   "source": [
    "# import scipy.io\n",
    "import scipy.io as sio\n",
    "\n",
    "# allow python to read matlab files\n",
    "# if this function crashes, the file type is most likely incorrect\n",
    "raw = sio.loadmat(path)\n",
    "\n",
    "# print every array name and shape\n",
    "for array_name in raw:\n",
    "    print(\"array '{}' with shape {}\".format(array_name, raw[array_name].shape))"
   ]
  },
  {
   "cell_type": "markdown",
   "metadata": {},
   "source": [
    "### Manually creating a Phys object continued\n",
    "\n",
    "The following example code illustrates the creation of a Phys object with data and metadata read directly from the file. Any modifications to the data can be made through this process. Converting units and chopping off blocks of data are useful examples of creating custom Phys objects. Data may also be read from other file types or software systems and used to create a Phys object as long as the data is formatted correctly into numpy arrays before being passed into the to_meta and to_array functions."
   ]
  },
  {
   "cell_type": "code",
   "execution_count": 12,
   "metadata": {},
   "outputs": [
    {
     "data": {
      "text/html": [
       "<table>\n",
       "<tr>\n",
       "<td>\n",
       "<table>\n",
       "  <thead>\n",
       "    <tr><td> </td><th> Array </th><th> Chunk </th></tr>\n",
       "  </thead>\n",
       "  <tbody>\n",
       "    <tr><th> Bytes </th><td> 415.27 MB </td> <td> 819.20 kB </td></tr>\n",
       "    <tr><th> Shape </th><td> (3, 34605650) </td> <td> (1, 204800) </td></tr>\n",
       "    <tr><th> Count </th><td> 3228 Tasks </td><td> 507 Chunks </td></tr>\n",
       "    <tr><th> Type </th><td> float32 </td><td> numpy.ndarray </td></tr>\n",
       "  </tbody>\n",
       "</table>\n",
       "</td>\n",
       "<td>\n",
       "<svg width=\"170\" height=\"75\" style=\"stroke:rgb(0,0,0);stroke-width:1\" >\n",
       "\n",
       "  <!-- Horizontal lines -->\n",
       "  <line x1=\"0\" y1=\"0\" x2=\"120\" y2=\"0\" style=\"stroke-width:2\" />\n",
       "  <line x1=\"0\" y1=\"8\" x2=\"120\" y2=\"8\" />\n",
       "  <line x1=\"0\" y1=\"16\" x2=\"120\" y2=\"16\" />\n",
       "  <line x1=\"0\" y1=\"25\" x2=\"120\" y2=\"25\" style=\"stroke-width:2\" />\n",
       "\n",
       "  <!-- Vertical lines -->\n",
       "  <line x1=\"0\" y1=\"0\" x2=\"0\" y2=\"25\" style=\"stroke-width:2\" />\n",
       "  <line x1=\"0\" y1=\"0\" x2=\"0\" y2=\"25\" />\n",
       "  <line x1=\"1\" y1=\"0\" x2=\"1\" y2=\"25\" />\n",
       "  <line x1=\"2\" y1=\"0\" x2=\"2\" y2=\"25\" />\n",
       "  <line x1=\"2\" y1=\"0\" x2=\"2\" y2=\"25\" />\n",
       "  <line x1=\"3\" y1=\"0\" x2=\"3\" y2=\"25\" />\n",
       "  <line x1=\"4\" y1=\"0\" x2=\"4\" y2=\"25\" />\n",
       "  <line x1=\"4\" y1=\"0\" x2=\"4\" y2=\"25\" />\n",
       "  <line x1=\"5\" y1=\"0\" x2=\"5\" y2=\"25\" />\n",
       "  <line x1=\"6\" y1=\"0\" x2=\"6\" y2=\"25\" />\n",
       "  <line x1=\"7\" y1=\"0\" x2=\"7\" y2=\"25\" />\n",
       "  <line x1=\"7\" y1=\"0\" x2=\"7\" y2=\"25\" />\n",
       "  <line x1=\"8\" y1=\"0\" x2=\"8\" y2=\"25\" />\n",
       "  <line x1=\"9\" y1=\"0\" x2=\"9\" y2=\"25\" />\n",
       "  <line x1=\"9\" y1=\"0\" x2=\"9\" y2=\"25\" />\n",
       "  <line x1=\"10\" y1=\"0\" x2=\"10\" y2=\"25\" />\n",
       "  <line x1=\"11\" y1=\"0\" x2=\"11\" y2=\"25\" />\n",
       "  <line x1=\"12\" y1=\"0\" x2=\"12\" y2=\"25\" />\n",
       "  <line x1=\"12\" y1=\"0\" x2=\"12\" y2=\"25\" />\n",
       "  <line x1=\"13\" y1=\"0\" x2=\"13\" y2=\"25\" />\n",
       "  <line x1=\"14\" y1=\"0\" x2=\"14\" y2=\"25\" />\n",
       "  <line x1=\"14\" y1=\"0\" x2=\"14\" y2=\"25\" />\n",
       "  <line x1=\"15\" y1=\"0\" x2=\"15\" y2=\"25\" />\n",
       "  <line x1=\"16\" y1=\"0\" x2=\"16\" y2=\"25\" />\n",
       "  <line x1=\"17\" y1=\"0\" x2=\"17\" y2=\"25\" />\n",
       "  <line x1=\"17\" y1=\"0\" x2=\"17\" y2=\"25\" />\n",
       "  <line x1=\"18\" y1=\"0\" x2=\"18\" y2=\"25\" />\n",
       "  <line x1=\"19\" y1=\"0\" x2=\"19\" y2=\"25\" />\n",
       "  <line x1=\"19\" y1=\"0\" x2=\"19\" y2=\"25\" />\n",
       "  <line x1=\"20\" y1=\"0\" x2=\"20\" y2=\"25\" />\n",
       "  <line x1=\"21\" y1=\"0\" x2=\"21\" y2=\"25\" />\n",
       "  <line x1=\"22\" y1=\"0\" x2=\"22\" y2=\"25\" />\n",
       "  <line x1=\"22\" y1=\"0\" x2=\"22\" y2=\"25\" />\n",
       "  <line x1=\"23\" y1=\"0\" x2=\"23\" y2=\"25\" />\n",
       "  <line x1=\"24\" y1=\"0\" x2=\"24\" y2=\"25\" />\n",
       "  <line x1=\"24\" y1=\"0\" x2=\"24\" y2=\"25\" />\n",
       "  <line x1=\"25\" y1=\"0\" x2=\"25\" y2=\"25\" />\n",
       "  <line x1=\"26\" y1=\"0\" x2=\"26\" y2=\"25\" />\n",
       "  <line x1=\"26\" y1=\"0\" x2=\"26\" y2=\"25\" />\n",
       "  <line x1=\"27\" y1=\"0\" x2=\"27\" y2=\"25\" />\n",
       "  <line x1=\"28\" y1=\"0\" x2=\"28\" y2=\"25\" />\n",
       "  <line x1=\"29\" y1=\"0\" x2=\"29\" y2=\"25\" />\n",
       "  <line x1=\"29\" y1=\"0\" x2=\"29\" y2=\"25\" />\n",
       "  <line x1=\"30\" y1=\"0\" x2=\"30\" y2=\"25\" />\n",
       "  <line x1=\"31\" y1=\"0\" x2=\"31\" y2=\"25\" />\n",
       "  <line x1=\"31\" y1=\"0\" x2=\"31\" y2=\"25\" />\n",
       "  <line x1=\"32\" y1=\"0\" x2=\"32\" y2=\"25\" />\n",
       "  <line x1=\"33\" y1=\"0\" x2=\"33\" y2=\"25\" />\n",
       "  <line x1=\"34\" y1=\"0\" x2=\"34\" y2=\"25\" />\n",
       "  <line x1=\"34\" y1=\"0\" x2=\"34\" y2=\"25\" />\n",
       "  <line x1=\"35\" y1=\"0\" x2=\"35\" y2=\"25\" />\n",
       "  <line x1=\"36\" y1=\"0\" x2=\"36\" y2=\"25\" />\n",
       "  <line x1=\"36\" y1=\"0\" x2=\"36\" y2=\"25\" />\n",
       "  <line x1=\"37\" y1=\"0\" x2=\"37\" y2=\"25\" />\n",
       "  <line x1=\"38\" y1=\"0\" x2=\"38\" y2=\"25\" />\n",
       "  <line x1=\"39\" y1=\"0\" x2=\"39\" y2=\"25\" />\n",
       "  <line x1=\"39\" y1=\"0\" x2=\"39\" y2=\"25\" />\n",
       "  <line x1=\"40\" y1=\"0\" x2=\"40\" y2=\"25\" />\n",
       "  <line x1=\"41\" y1=\"0\" x2=\"41\" y2=\"25\" />\n",
       "  <line x1=\"41\" y1=\"0\" x2=\"41\" y2=\"25\" />\n",
       "  <line x1=\"42\" y1=\"0\" x2=\"42\" y2=\"25\" />\n",
       "  <line x1=\"43\" y1=\"0\" x2=\"43\" y2=\"25\" />\n",
       "  <line x1=\"44\" y1=\"0\" x2=\"44\" y2=\"25\" />\n",
       "  <line x1=\"44\" y1=\"0\" x2=\"44\" y2=\"25\" />\n",
       "  <line x1=\"45\" y1=\"0\" x2=\"45\" y2=\"25\" />\n",
       "  <line x1=\"46\" y1=\"0\" x2=\"46\" y2=\"25\" />\n",
       "  <line x1=\"46\" y1=\"0\" x2=\"46\" y2=\"25\" />\n",
       "  <line x1=\"47\" y1=\"0\" x2=\"47\" y2=\"25\" />\n",
       "  <line x1=\"48\" y1=\"0\" x2=\"48\" y2=\"25\" />\n",
       "  <line x1=\"49\" y1=\"0\" x2=\"49\" y2=\"25\" />\n",
       "  <line x1=\"49\" y1=\"0\" x2=\"49\" y2=\"25\" />\n",
       "  <line x1=\"50\" y1=\"0\" x2=\"50\" y2=\"25\" />\n",
       "  <line x1=\"51\" y1=\"0\" x2=\"51\" y2=\"25\" />\n",
       "  <line x1=\"51\" y1=\"0\" x2=\"51\" y2=\"25\" />\n",
       "  <line x1=\"52\" y1=\"0\" x2=\"52\" y2=\"25\" />\n",
       "  <line x1=\"53\" y1=\"0\" x2=\"53\" y2=\"25\" />\n",
       "  <line x1=\"53\" y1=\"0\" x2=\"53\" y2=\"25\" />\n",
       "  <line x1=\"54\" y1=\"0\" x2=\"54\" y2=\"25\" />\n",
       "  <line x1=\"55\" y1=\"0\" x2=\"55\" y2=\"25\" />\n",
       "  <line x1=\"56\" y1=\"0\" x2=\"56\" y2=\"25\" />\n",
       "  <line x1=\"56\" y1=\"0\" x2=\"56\" y2=\"25\" />\n",
       "  <line x1=\"57\" y1=\"0\" x2=\"57\" y2=\"25\" />\n",
       "  <line x1=\"58\" y1=\"0\" x2=\"58\" y2=\"25\" />\n",
       "  <line x1=\"58\" y1=\"0\" x2=\"58\" y2=\"25\" />\n",
       "  <line x1=\"59\" y1=\"0\" x2=\"59\" y2=\"25\" />\n",
       "  <line x1=\"60\" y1=\"0\" x2=\"60\" y2=\"25\" />\n",
       "  <line x1=\"61\" y1=\"0\" x2=\"61\" y2=\"25\" />\n",
       "  <line x1=\"61\" y1=\"0\" x2=\"61\" y2=\"25\" />\n",
       "  <line x1=\"62\" y1=\"0\" x2=\"62\" y2=\"25\" />\n",
       "  <line x1=\"63\" y1=\"0\" x2=\"63\" y2=\"25\" />\n",
       "  <line x1=\"63\" y1=\"0\" x2=\"63\" y2=\"25\" />\n",
       "  <line x1=\"64\" y1=\"0\" x2=\"64\" y2=\"25\" />\n",
       "  <line x1=\"65\" y1=\"0\" x2=\"65\" y2=\"25\" />\n",
       "  <line x1=\"66\" y1=\"0\" x2=\"66\" y2=\"25\" />\n",
       "  <line x1=\"66\" y1=\"0\" x2=\"66\" y2=\"25\" />\n",
       "  <line x1=\"67\" y1=\"0\" x2=\"67\" y2=\"25\" />\n",
       "  <line x1=\"68\" y1=\"0\" x2=\"68\" y2=\"25\" />\n",
       "  <line x1=\"68\" y1=\"0\" x2=\"68\" y2=\"25\" />\n",
       "  <line x1=\"69\" y1=\"0\" x2=\"69\" y2=\"25\" />\n",
       "  <line x1=\"70\" y1=\"0\" x2=\"70\" y2=\"25\" />\n",
       "  <line x1=\"71\" y1=\"0\" x2=\"71\" y2=\"25\" />\n",
       "  <line x1=\"71\" y1=\"0\" x2=\"71\" y2=\"25\" />\n",
       "  <line x1=\"72\" y1=\"0\" x2=\"72\" y2=\"25\" />\n",
       "  <line x1=\"73\" y1=\"0\" x2=\"73\" y2=\"25\" />\n",
       "  <line x1=\"73\" y1=\"0\" x2=\"73\" y2=\"25\" />\n",
       "  <line x1=\"74\" y1=\"0\" x2=\"74\" y2=\"25\" />\n",
       "  <line x1=\"75\" y1=\"0\" x2=\"75\" y2=\"25\" />\n",
       "  <line x1=\"75\" y1=\"0\" x2=\"75\" y2=\"25\" />\n",
       "  <line x1=\"76\" y1=\"0\" x2=\"76\" y2=\"25\" />\n",
       "  <line x1=\"77\" y1=\"0\" x2=\"77\" y2=\"25\" />\n",
       "  <line x1=\"78\" y1=\"0\" x2=\"78\" y2=\"25\" />\n",
       "  <line x1=\"78\" y1=\"0\" x2=\"78\" y2=\"25\" />\n",
       "  <line x1=\"79\" y1=\"0\" x2=\"79\" y2=\"25\" />\n",
       "  <line x1=\"80\" y1=\"0\" x2=\"80\" y2=\"25\" />\n",
       "  <line x1=\"80\" y1=\"0\" x2=\"80\" y2=\"25\" />\n",
       "  <line x1=\"81\" y1=\"0\" x2=\"81\" y2=\"25\" />\n",
       "  <line x1=\"82\" y1=\"0\" x2=\"82\" y2=\"25\" />\n",
       "  <line x1=\"83\" y1=\"0\" x2=\"83\" y2=\"25\" />\n",
       "  <line x1=\"83\" y1=\"0\" x2=\"83\" y2=\"25\" />\n",
       "  <line x1=\"84\" y1=\"0\" x2=\"84\" y2=\"25\" />\n",
       "  <line x1=\"85\" y1=\"0\" x2=\"85\" y2=\"25\" />\n",
       "  <line x1=\"85\" y1=\"0\" x2=\"85\" y2=\"25\" />\n",
       "  <line x1=\"86\" y1=\"0\" x2=\"86\" y2=\"25\" />\n",
       "  <line x1=\"87\" y1=\"0\" x2=\"87\" y2=\"25\" />\n",
       "  <line x1=\"88\" y1=\"0\" x2=\"88\" y2=\"25\" />\n",
       "  <line x1=\"88\" y1=\"0\" x2=\"88\" y2=\"25\" />\n",
       "  <line x1=\"89\" y1=\"0\" x2=\"89\" y2=\"25\" />\n",
       "  <line x1=\"90\" y1=\"0\" x2=\"90\" y2=\"25\" />\n",
       "  <line x1=\"90\" y1=\"0\" x2=\"90\" y2=\"25\" />\n",
       "  <line x1=\"91\" y1=\"0\" x2=\"91\" y2=\"25\" />\n",
       "  <line x1=\"92\" y1=\"0\" x2=\"92\" y2=\"25\" />\n",
       "  <line x1=\"93\" y1=\"0\" x2=\"93\" y2=\"25\" />\n",
       "  <line x1=\"93\" y1=\"0\" x2=\"93\" y2=\"25\" />\n",
       "  <line x1=\"94\" y1=\"0\" x2=\"94\" y2=\"25\" />\n",
       "  <line x1=\"95\" y1=\"0\" x2=\"95\" y2=\"25\" />\n",
       "  <line x1=\"95\" y1=\"0\" x2=\"95\" y2=\"25\" />\n",
       "  <line x1=\"96\" y1=\"0\" x2=\"96\" y2=\"25\" />\n",
       "  <line x1=\"97\" y1=\"0\" x2=\"97\" y2=\"25\" />\n",
       "  <line x1=\"98\" y1=\"0\" x2=\"98\" y2=\"25\" />\n",
       "  <line x1=\"98\" y1=\"0\" x2=\"98\" y2=\"25\" />\n",
       "  <line x1=\"99\" y1=\"0\" x2=\"99\" y2=\"25\" />\n",
       "  <line x1=\"100\" y1=\"0\" x2=\"100\" y2=\"25\" />\n",
       "  <line x1=\"100\" y1=\"0\" x2=\"100\" y2=\"25\" />\n",
       "  <line x1=\"101\" y1=\"0\" x2=\"101\" y2=\"25\" />\n",
       "  <line x1=\"102\" y1=\"0\" x2=\"102\" y2=\"25\" />\n",
       "  <line x1=\"102\" y1=\"0\" x2=\"102\" y2=\"25\" />\n",
       "  <line x1=\"103\" y1=\"0\" x2=\"103\" y2=\"25\" />\n",
       "  <line x1=\"104\" y1=\"0\" x2=\"104\" y2=\"25\" />\n",
       "  <line x1=\"105\" y1=\"0\" x2=\"105\" y2=\"25\" />\n",
       "  <line x1=\"105\" y1=\"0\" x2=\"105\" y2=\"25\" />\n",
       "  <line x1=\"106\" y1=\"0\" x2=\"106\" y2=\"25\" />\n",
       "  <line x1=\"107\" y1=\"0\" x2=\"107\" y2=\"25\" />\n",
       "  <line x1=\"107\" y1=\"0\" x2=\"107\" y2=\"25\" />\n",
       "  <line x1=\"108\" y1=\"0\" x2=\"108\" y2=\"25\" />\n",
       "  <line x1=\"109\" y1=\"0\" x2=\"109\" y2=\"25\" />\n",
       "  <line x1=\"110\" y1=\"0\" x2=\"110\" y2=\"25\" />\n",
       "  <line x1=\"110\" y1=\"0\" x2=\"110\" y2=\"25\" />\n",
       "  <line x1=\"111\" y1=\"0\" x2=\"111\" y2=\"25\" />\n",
       "  <line x1=\"112\" y1=\"0\" x2=\"112\" y2=\"25\" />\n",
       "  <line x1=\"112\" y1=\"0\" x2=\"112\" y2=\"25\" />\n",
       "  <line x1=\"113\" y1=\"0\" x2=\"113\" y2=\"25\" />\n",
       "  <line x1=\"114\" y1=\"0\" x2=\"114\" y2=\"25\" />\n",
       "  <line x1=\"115\" y1=\"0\" x2=\"115\" y2=\"25\" />\n",
       "  <line x1=\"115\" y1=\"0\" x2=\"115\" y2=\"25\" />\n",
       "  <line x1=\"116\" y1=\"0\" x2=\"116\" y2=\"25\" />\n",
       "  <line x1=\"117\" y1=\"0\" x2=\"117\" y2=\"25\" />\n",
       "  <line x1=\"117\" y1=\"0\" x2=\"117\" y2=\"25\" />\n",
       "  <line x1=\"118\" y1=\"0\" x2=\"118\" y2=\"25\" />\n",
       "  <line x1=\"119\" y1=\"0\" x2=\"119\" y2=\"25\" />\n",
       "  <line x1=\"120\" y1=\"0\" x2=\"120\" y2=\"25\" style=\"stroke-width:2\" />\n",
       "\n",
       "  <!-- Colored Rectangle -->\n",
       "  <polygon points=\"0.000000,0.000000 120.000000,0.000000 120.000000,25.412617 0.000000,25.412617\" style=\"fill:#ECB172A0;stroke-width:0\"/>\n",
       "\n",
       "  <!-- Text -->\n",
       "  <text x=\"60.000000\" y=\"45.412617\" font-size=\"1.0rem\" font-weight=\"100\" text-anchor=\"middle\" >34605650</text>\n",
       "  <text x=\"140.000000\" y=\"12.706308\" font-size=\"1.0rem\" font-weight=\"100\" text-anchor=\"middle\" transform=\"rotate(0,140.000000,12.706308)\">3</text>\n",
       "</svg>\n",
       "</td>\n",
       "</tr>\n",
       "</table>"
      ],
      "text/plain": [
       "dask.array<rechunk-merge, shape=(3, 34605650), dtype=float32, chunksize=(1, 204800), chunktype=numpy.ndarray>"
      ]
     },
     "execution_count": 12,
     "metadata": {},
     "output_type": "execute_result"
    }
   ],
   "source": [
    "import pyCAP\n",
    "\n",
    "# load in the data and assign variable names\n",
    "raw = sio.loadmat(path)\n",
    "data = raw['data']\n",
    "datastart = raw['datastart']\n",
    "dataend = raw['dataend']\n",
    "tickrate = raw['tickrate']\n",
    "titles = raw['titles']\n",
    "unittext = raw['unittext']\n",
    "unittextmap = raw['unittextmap']\n",
    "blocktimes = raw['blocktimes']\n",
    "\n",
    "# check the data and generate warnings (make sure to turn on warnings if they are off with warnings.filterwarnings())\n",
    "# pyCAP.io.adinstruments_io.check_data(raw)\n",
    "\n",
    "# Add additional code here to properly format arrays or change properties\n",
    "\n",
    "# create metadata dictionary\n",
    "metadata = pyCAP.io.adinstruments_io.to_meta(datastart, dataend, tickrate, titles, unittext, unittextmap, blocktimes, mult_data = False)\n",
    "# create data array\n",
    "array = pyCAP.io.adinstruments_io.to_array(data, datastart, dataend, mult_data = False)\n",
    "\n",
    "# instantiate the object\n",
    "data = pyCAP.Phys(array, metadata = metadata, daskify = False)\n",
    "\n",
    "# output the array used to instantiate the object\n",
    "data.array\n"
   ]
  }
 ],
 "metadata": {
  "kernelspec": {
   "display_name": "Python 3",
   "language": "python",
   "name": "python3"
  },
  "language_info": {
   "codemirror_mode": {
    "name": "ipython",
    "version": 3
   },
   "file_extension": ".py",
   "mimetype": "text/x-python",
   "name": "python",
   "nbconvert_exporter": "python",
   "pygments_lexer": "ipython3",
   "version": "3.7.7"
  }
 },
 "nbformat": 4,
 "nbformat_minor": 4
}
