{
 "cells": [
  {
   "cell_type": "markdown",
   "metadata": {},
   "source": [
    "# Tutorial 01 - Calculating Magnitudes of Evoked Compound Action Potentials\n",
    "\n",
    "We have included several methods to allow the user to calculate the magnitude of an action potential.  This is intedended to be an intermediate step with the end goal being to establish dose response curves plotting the magnitude of response against the amplitude of stimulation."
   ]
  },
  {
   "cell_type": "code",
   "execution_count": 20,
   "metadata": {},
   "outputs": [],
   "source": [
    "import pyCAP\n",
    "import matplotlib.pyplot as plt\n",
    "import seaborn as sns\n",
    "import pandas as pd\n",
    "import numpy as np\n",
    "sns.set_context(\"paper\")"
   ]
  },
  {
   "cell_type": "markdown",
   "metadata": {},
   "source": [
    "#### Set the file_location to the included sample data and import data using the Ephys class.\n",
    "Note: You'll see some additional variables here that account for the delay between the onset of the recording and the onset of the stimulus."
   ]
  },
  {
   "cell_type": "code",
   "execution_count": 2,
   "metadata": {},
   "outputs": [
    {
     "name": "stdout",
     "output_type": "stream",
     "text": [
      "read from t=0s to t=865.38s\n"
     ]
    }
   ],
   "source": [
    "file_location = r\"D:\\20191119\\TDT\\Imthera_Pig_Exeriment_25Hz-191119\\pnpig191119-191119-122010\"\n",
    "data_ephys = pyCAP.Ephys(data=file_location, stores=['RawE', 'RawG'],\n",
    "                         rz_sample_rate=25, si_sample_rate=25, sample_delay=11)"
   ]
  },
  {
   "cell_type": "markdown",
   "metadata": {},
   "source": [
    "#### Groom  & Filter the Data"
   ]
  },
  {
   "cell_type": "code",
   "execution_count": 3,
   "metadata": {},
   "outputs": [],
   "source": [
    "# Groom Data\n",
    "data_ephys = data_ephys.remove_ch('RawG 4')\n",
    "rec_ch_names = ['LIFE 1', 'LIFE 2', 'LIFE 3', 'LIFE 4', 'EMG 1', 'EMG 2', 'EMG 3']\n",
    "rec_ch_types = ['LIFE', 'LIFE', 'LIFE', 'LIFE', 'EMG', 'EMG', 'EMG']\n",
    "data_ephys = data_ephys.set_ch_names(rec_ch_names)\n",
    "data_ephys = data_ephys.set_ch_types(rec_ch_types)\n",
    "\n",
    "# Filter Data\n",
    "data_ephys = data_ephys.filter_powerline()\n",
    "data_ephys = data_ephys.filter_median(btype='highpass')\n",
    "data_ephys = data_ephys.filter_gaussian(Wn=4000, btype='lowpass')"
   ]
  },
  {
   "cell_type": "markdown",
   "metadata": {},
   "source": [
    "#### Initiate an instance of the Stim class (this will get passed to the ECAP class, which does our calculations)"
   ]
  },
  {
   "cell_type": "code",
   "execution_count": 4,
   "metadata": {},
   "outputs": [
    {
     "name": "stdout",
     "output_type": "stream",
     "text": [
      "read from t=0s to t=865.38s\n"
     ]
    }
   ],
   "source": [
    "data_stim = pyCAP.Stim(file_location)"
   ]
  },
  {
   "cell_type": "markdown",
   "metadata": {},
   "source": [
    "#### Initiate an instance of the ECAP class (this takes as an argument the distances from the stimulating electrode to the recording electrode) and average the data across stimulation trains, per stimulation"
   ]
  },
  {
   "cell_type": "code",
   "execution_count": 10,
   "metadata": {},
   "outputs": [
    {
     "name": "stdout",
     "output_type": "stream",
     "text": [
      "Begin Averaging Data\n",
      "Finished Averaging Data\n"
     ]
    }
   ],
   "source": [
    "data_ecap = pyCAP.ECAP(data_ephys, data_stim, distance_log=[7.7, 8.3, 8.5, 8.6])\n",
    "data_ecap.average_data()"
   ]
  },
  {
   "cell_type": "markdown",
   "metadata": {},
   "source": [
    "#### The method calculate_AUC within the ECAP class will calculate the area under the curve for the entire averaged data"
   ]
  },
  {
   "cell_type": "code",
   "execution_count": 11,
   "metadata": {},
   "outputs": [],
   "source": [
    "data_ecap.calculate_AUC()"
   ]
  },
  {
   "cell_type": "markdown",
   "metadata": {},
   "source": [
    "#### Let's pull this data into a pandas DataFrame and take a look"
   ]
  },
  {
   "cell_type": "code",
   "execution_count": 13,
   "metadata": {},
   "outputs": [
    {
     "data": {
      "text/html": [
       "<div>\n",
       "<style scoped>\n",
       "    .dataframe tbody tr th:only-of-type {\n",
       "        vertical-align: middle;\n",
       "    }\n",
       "\n",
       "    .dataframe tbody tr th {\n",
       "        vertical-align: top;\n",
       "    }\n",
       "\n",
       "    .dataframe thead th {\n",
       "        text-align: right;\n",
       "    }\n",
       "</style>\n",
       "<table border=\"1\" class=\"dataframe\">\n",
       "  <thead>\n",
       "    <tr style=\"text-align: right;\">\n",
       "      <th></th>\n",
       "      <th>AUC (Vs)</th>\n",
       "      <th>Calculation Type</th>\n",
       "      <th>Calculation Window</th>\n",
       "      <th>onset time (s)</th>\n",
       "      <th>offset time (s)</th>\n",
       "      <th>period (ms)</th>\n",
       "      <th>frequency (Hz)</th>\n",
       "      <th>pulse count</th>\n",
       "      <th>pulse amplitude (μA)</th>\n",
       "      <th>duration (ms)</th>\n",
       "      <th>pulse duration (ms)</th>\n",
       "      <th>interphase delay (ms)</th>\n",
       "      <th>channel</th>\n",
       "      <th>Recording Electrode</th>\n",
       "    </tr>\n",
       "  </thead>\n",
       "  <tbody>\n",
       "    <tr>\n",
       "      <th>0</th>\n",
       "      <td>0.000031</td>\n",
       "      <td>RMS</td>\n",
       "      <td>A-alpha</td>\n",
       "      <td>12.429967</td>\n",
       "      <td>42.443406</td>\n",
       "      <td>40.017918</td>\n",
       "      <td>24.988806</td>\n",
       "      <td>750</td>\n",
       "      <td>-2000.0</td>\n",
       "      <td>30013.438225</td>\n",
       "      <td>0.4</td>\n",
       "      <td>0.0</td>\n",
       "      <td>1</td>\n",
       "      <td>0</td>\n",
       "    </tr>\n",
       "    <tr>\n",
       "      <th>1</th>\n",
       "      <td>0.000020</td>\n",
       "      <td>RMS</td>\n",
       "      <td>A-beta</td>\n",
       "      <td>12.429967</td>\n",
       "      <td>42.443406</td>\n",
       "      <td>40.017918</td>\n",
       "      <td>24.988806</td>\n",
       "      <td>750</td>\n",
       "      <td>-2000.0</td>\n",
       "      <td>30013.438225</td>\n",
       "      <td>0.4</td>\n",
       "      <td>0.0</td>\n",
       "      <td>1</td>\n",
       "      <td>0</td>\n",
       "    </tr>\n",
       "    <tr>\n",
       "      <th>2</th>\n",
       "      <td>0.000005</td>\n",
       "      <td>RMS</td>\n",
       "      <td>A-gamma</td>\n",
       "      <td>12.429967</td>\n",
       "      <td>42.443406</td>\n",
       "      <td>40.017918</td>\n",
       "      <td>24.988806</td>\n",
       "      <td>750</td>\n",
       "      <td>-2000.0</td>\n",
       "      <td>30013.438225</td>\n",
       "      <td>0.4</td>\n",
       "      <td>0.0</td>\n",
       "      <td>1</td>\n",
       "      <td>0</td>\n",
       "    </tr>\n",
       "    <tr>\n",
       "      <th>3</th>\n",
       "      <td>0.000004</td>\n",
       "      <td>RMS</td>\n",
       "      <td>A-delta</td>\n",
       "      <td>12.429967</td>\n",
       "      <td>42.443406</td>\n",
       "      <td>40.017918</td>\n",
       "      <td>24.988806</td>\n",
       "      <td>750</td>\n",
       "      <td>-2000.0</td>\n",
       "      <td>30013.438225</td>\n",
       "      <td>0.4</td>\n",
       "      <td>0.0</td>\n",
       "      <td>1</td>\n",
       "      <td>0</td>\n",
       "    </tr>\n",
       "    <tr>\n",
       "      <th>4</th>\n",
       "      <td>0.000005</td>\n",
       "      <td>RMS</td>\n",
       "      <td>B</td>\n",
       "      <td>12.429967</td>\n",
       "      <td>42.443406</td>\n",
       "      <td>40.017918</td>\n",
       "      <td>24.988806</td>\n",
       "      <td>750</td>\n",
       "      <td>-2000.0</td>\n",
       "      <td>30013.438225</td>\n",
       "      <td>0.4</td>\n",
       "      <td>0.0</td>\n",
       "      <td>1</td>\n",
       "      <td>0</td>\n",
       "    </tr>\n",
       "  </tbody>\n",
       "</table>\n",
       "</div>"
      ],
      "text/plain": [
       "   AUC (Vs) Calculation Type Calculation Window  onset time (s)  \\\n",
       "0  0.000031              RMS            A-alpha       12.429967   \n",
       "1  0.000020              RMS             A-beta       12.429967   \n",
       "2  0.000005              RMS            A-gamma       12.429967   \n",
       "3  0.000004              RMS            A-delta       12.429967   \n",
       "4  0.000005              RMS                  B       12.429967   \n",
       "\n",
       "   offset time (s)  period (ms)  frequency (Hz)  pulse count  \\\n",
       "0        42.443406    40.017918       24.988806          750   \n",
       "1        42.443406    40.017918       24.988806          750   \n",
       "2        42.443406    40.017918       24.988806          750   \n",
       "3        42.443406    40.017918       24.988806          750   \n",
       "4        42.443406    40.017918       24.988806          750   \n",
       "\n",
       "   pulse amplitude (μA)  duration (ms)  pulse duration (ms)  \\\n",
       "0               -2000.0   30013.438225                  0.4   \n",
       "1               -2000.0   30013.438225                  0.4   \n",
       "2               -2000.0   30013.438225                  0.4   \n",
       "3               -2000.0   30013.438225                  0.4   \n",
       "4               -2000.0   30013.438225                  0.4   \n",
       "\n",
       "   interphase delay (ms)  channel  Recording Electrode  \n",
       "0                    0.0        1                    0  \n",
       "1                    0.0        1                    0  \n",
       "2                    0.0        1                    0  \n",
       "3                    0.0        1                    0  \n",
       "4                    0.0        1                    0  "
      ]
     },
     "execution_count": 13,
     "metadata": {},
     "output_type": "execute_result"
    }
   ],
   "source": [
    "df = data_ecap.master_df\n",
    "df.head()"
   ]
  },
  {
   "cell_type": "markdown",
   "metadata": {},
   "source": [
    "##### You'll note that our stimulation amplitudes (pulse amplitude (μA))  are all negative. This is the convention for cathodic based stimulation.  Let's change these from negative to positive to make figures more intuitive"
   ]
  },
  {
   "cell_type": "code",
   "execution_count": 16,
   "metadata": {},
   "outputs": [
    {
     "data": {
      "text/html": [
       "<div>\n",
       "<style scoped>\n",
       "    .dataframe tbody tr th:only-of-type {\n",
       "        vertical-align: middle;\n",
       "    }\n",
       "\n",
       "    .dataframe tbody tr th {\n",
       "        vertical-align: top;\n",
       "    }\n",
       "\n",
       "    .dataframe thead th {\n",
       "        text-align: right;\n",
       "    }\n",
       "</style>\n",
       "<table border=\"1\" class=\"dataframe\">\n",
       "  <thead>\n",
       "    <tr style=\"text-align: right;\">\n",
       "      <th></th>\n",
       "      <th>AUC (Vs)</th>\n",
       "      <th>Calculation Type</th>\n",
       "      <th>Calculation Window</th>\n",
       "      <th>onset time (s)</th>\n",
       "      <th>offset time (s)</th>\n",
       "      <th>period (ms)</th>\n",
       "      <th>frequency (Hz)</th>\n",
       "      <th>pulse count</th>\n",
       "      <th>pulse amplitude (μA)</th>\n",
       "      <th>duration (ms)</th>\n",
       "      <th>pulse duration (ms)</th>\n",
       "      <th>interphase delay (ms)</th>\n",
       "      <th>channel</th>\n",
       "      <th>Recording Electrode</th>\n",
       "    </tr>\n",
       "  </thead>\n",
       "  <tbody>\n",
       "    <tr>\n",
       "      <th>0</th>\n",
       "      <td>0.000031</td>\n",
       "      <td>RMS</td>\n",
       "      <td>A-alpha</td>\n",
       "      <td>12.429967</td>\n",
       "      <td>42.443406</td>\n",
       "      <td>40.017918</td>\n",
       "      <td>24.988806</td>\n",
       "      <td>750</td>\n",
       "      <td>2000.0</td>\n",
       "      <td>30013.438225</td>\n",
       "      <td>0.4</td>\n",
       "      <td>0.0</td>\n",
       "      <td>1</td>\n",
       "      <td>0</td>\n",
       "    </tr>\n",
       "    <tr>\n",
       "      <th>1</th>\n",
       "      <td>0.000020</td>\n",
       "      <td>RMS</td>\n",
       "      <td>A-beta</td>\n",
       "      <td>12.429967</td>\n",
       "      <td>42.443406</td>\n",
       "      <td>40.017918</td>\n",
       "      <td>24.988806</td>\n",
       "      <td>750</td>\n",
       "      <td>2000.0</td>\n",
       "      <td>30013.438225</td>\n",
       "      <td>0.4</td>\n",
       "      <td>0.0</td>\n",
       "      <td>1</td>\n",
       "      <td>0</td>\n",
       "    </tr>\n",
       "    <tr>\n",
       "      <th>2</th>\n",
       "      <td>0.000005</td>\n",
       "      <td>RMS</td>\n",
       "      <td>A-gamma</td>\n",
       "      <td>12.429967</td>\n",
       "      <td>42.443406</td>\n",
       "      <td>40.017918</td>\n",
       "      <td>24.988806</td>\n",
       "      <td>750</td>\n",
       "      <td>2000.0</td>\n",
       "      <td>30013.438225</td>\n",
       "      <td>0.4</td>\n",
       "      <td>0.0</td>\n",
       "      <td>1</td>\n",
       "      <td>0</td>\n",
       "    </tr>\n",
       "    <tr>\n",
       "      <th>3</th>\n",
       "      <td>0.000004</td>\n",
       "      <td>RMS</td>\n",
       "      <td>A-delta</td>\n",
       "      <td>12.429967</td>\n",
       "      <td>42.443406</td>\n",
       "      <td>40.017918</td>\n",
       "      <td>24.988806</td>\n",
       "      <td>750</td>\n",
       "      <td>2000.0</td>\n",
       "      <td>30013.438225</td>\n",
       "      <td>0.4</td>\n",
       "      <td>0.0</td>\n",
       "      <td>1</td>\n",
       "      <td>0</td>\n",
       "    </tr>\n",
       "    <tr>\n",
       "      <th>4</th>\n",
       "      <td>0.000005</td>\n",
       "      <td>RMS</td>\n",
       "      <td>B</td>\n",
       "      <td>12.429967</td>\n",
       "      <td>42.443406</td>\n",
       "      <td>40.017918</td>\n",
       "      <td>24.988806</td>\n",
       "      <td>750</td>\n",
       "      <td>2000.0</td>\n",
       "      <td>30013.438225</td>\n",
       "      <td>0.4</td>\n",
       "      <td>0.0</td>\n",
       "      <td>1</td>\n",
       "      <td>0</td>\n",
       "    </tr>\n",
       "  </tbody>\n",
       "</table>\n",
       "</div>"
      ],
      "text/plain": [
       "   AUC (Vs) Calculation Type Calculation Window  onset time (s)  \\\n",
       "0  0.000031              RMS            A-alpha       12.429967   \n",
       "1  0.000020              RMS             A-beta       12.429967   \n",
       "2  0.000005              RMS            A-gamma       12.429967   \n",
       "3  0.000004              RMS            A-delta       12.429967   \n",
       "4  0.000005              RMS                  B       12.429967   \n",
       "\n",
       "   offset time (s)  period (ms)  frequency (Hz)  pulse count  \\\n",
       "0        42.443406    40.017918       24.988806          750   \n",
       "1        42.443406    40.017918       24.988806          750   \n",
       "2        42.443406    40.017918       24.988806          750   \n",
       "3        42.443406    40.017918       24.988806          750   \n",
       "4        42.443406    40.017918       24.988806          750   \n",
       "\n",
       "   pulse amplitude (μA)  duration (ms)  pulse duration (ms)  \\\n",
       "0                2000.0   30013.438225                  0.4   \n",
       "1                2000.0   30013.438225                  0.4   \n",
       "2                2000.0   30013.438225                  0.4   \n",
       "3                2000.0   30013.438225                  0.4   \n",
       "4                2000.0   30013.438225                  0.4   \n",
       "\n",
       "   interphase delay (ms)  channel  Recording Electrode  \n",
       "0                    0.0        1                    0  \n",
       "1                    0.0        1                    0  \n",
       "2                    0.0        1                    0  \n",
       "3                    0.0        1                    0  \n",
       "4                    0.0        1                    0  "
      ]
     },
     "execution_count": 16,
     "metadata": {},
     "output_type": "execute_result"
    }
   ],
   "source": [
    "df['pulse amplitude (μA)'] = df['pulse amplitude (μA)'] * -1\n",
    "df.head()"
   ]
  },
  {
   "cell_type": "markdown",
   "metadata": {},
   "source": [
    "#### Now, let's make a nice plot of our A-alphas"
   ]
  },
  {
   "cell_type": "code",
   "execution_count": 21,
   "metadata": {},
   "outputs": [
    {
     "data": {
      "image/png": "[encoded data removed]",
      "text/plain": [
       "<Figure size 1200x675 with 1 Axes>"
      ]
     },
     "metadata": {},
     "output_type": "display_data"
    }
   ],
   "source": [
    "fig, ax = plt.subplots(1, dpi=300, figsize=(4,9./4))\n",
    "\n",
    "sns.lineplot(x=\"pulse amplitude (μA)\", y='AUC (Vs)',\n",
    "             marker='o',\n",
    "             estimator=np.mean,\n",
    "             ci=0,\n",
    "             hue=\"channel\",\n",
    "             data=df[(df[\"Calculation Window\"] == \"A-alpha\") &\n",
    "                     (df[\"Calculation Type\"] == \"RMS\")], ax=ax)\n",
    "\n",
    "ax.set_title('A-α Dose Response')\n",
    "plt.tight_layout()\n",
    "plt.show()"
   ]
  },
  {
   "cell_type": "code",
   "execution_count": null,
   "metadata": {},
   "outputs": [],
   "source": []
  }
 ],
 "metadata": {
  "kernelspec": {
   "display_name": "Python 3",
   "language": "python",
   "name": "python3"
  },
  "language_info": {
   "codemirror_mode": {
    "name": "ipython",
    "version": 3
   },
   "file_extension": ".py",
   "mimetype": "text/x-python",
   "name": "python",
   "nbconvert_exporter": "python",
   "pygments_lexer": "ipython3",
   "version": "3.7.9"
  }
 },
 "nbformat": 4,
 "nbformat_minor": 4
}
