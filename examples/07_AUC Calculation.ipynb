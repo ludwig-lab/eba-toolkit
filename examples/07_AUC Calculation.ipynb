{
 "cells": [
  {
   "cell_type": "code",
   "execution_count": 1,
   "metadata": {},
   "outputs": [],
   "source": [
    "%load_ext autoreload\n",
    "%autoreload 2"
   ]
  },
  {
   "cell_type": "code",
   "execution_count": 1,
   "metadata": {},
   "outputs": [],
   "source": [
    "import pyCAP\n",
    "import matplotlib.pyplot as plt\n",
    "import numpy as np\n",
    "import dill\n",
    "from scipy import signal, ndimage\n",
    "import pandas as pd\n",
    "import seaborn as sns\n",
    "plt.style.use('seaborn-poster')"
   ]
  },
  {
   "cell_type": "code",
   "execution_count": 2,
   "metadata": {},
   "outputs": [
    {
     "ename": "AttributeError",
     "evalue": "Can't get attribute '_pass_extra_kwargs' on <module 'dask.array.core' from 'C:\\\\Users\\\\steph\\\\.conda\\\\envs\\\\pyCAP\\\\lib\\\\site-packages\\\\dask\\\\array\\\\core.py'>",
     "output_type": "error",
     "traceback": [
      "\u001b[1;31m---------------------------------------------------------------------------\u001b[0m",
      "\u001b[1;31mAttributeError\u001b[0m                            Traceback (most recent call last)",
      "\u001b[1;32m<ipython-input-2-742e0ae31296>\u001b[0m in \u001b[0;36m<module>\u001b[1;34m\u001b[0m\n\u001b[1;32m----> 1\u001b[1;33m \u001b[0mexp\u001b[0m \u001b[1;33m=\u001b[0m \u001b[0mdill\u001b[0m\u001b[1;33m.\u001b[0m\u001b[0mload\u001b[0m\u001b[1;33m(\u001b[0m\u001b[0mopen\u001b[0m\u001b[1;33m(\u001b[0m\u001b[1;34mr\"C:\\Users\\steph\\PycharmProjects\\pyCAP\\pyCAP\\testingOOP\\Pickle Storage\\20191119.pkl\"\u001b[0m\u001b[1;33m,\u001b[0m \u001b[1;34m\"rb\"\u001b[0m\u001b[1;33m)\u001b[0m\u001b[1;33m)\u001b[0m\u001b[1;33m\u001b[0m\u001b[1;33m\u001b[0m\u001b[0m\n\u001b[0m",
      "\u001b[1;32m~\\.conda\\envs\\pyCAP\\lib\\site-packages\\dill\\_dill.py\u001b[0m in \u001b[0;36mload\u001b[1;34m(file, ignore, **kwds)\u001b[0m\n\u001b[0;32m    268\u001b[0m \u001b[1;32mdef\u001b[0m \u001b[0mload\u001b[0m\u001b[1;33m(\u001b[0m\u001b[0mfile\u001b[0m\u001b[1;33m,\u001b[0m \u001b[0mignore\u001b[0m\u001b[1;33m=\u001b[0m\u001b[1;32mNone\u001b[0m\u001b[1;33m,\u001b[0m \u001b[1;33m**\u001b[0m\u001b[0mkwds\u001b[0m\u001b[1;33m)\u001b[0m\u001b[1;33m:\u001b[0m\u001b[1;33m\u001b[0m\u001b[1;33m\u001b[0m\u001b[0m\n\u001b[0;32m    269\u001b[0m     \u001b[1;34m\"\"\"unpickle an object from a file\"\"\"\u001b[0m\u001b[1;33m\u001b[0m\u001b[1;33m\u001b[0m\u001b[0m\n\u001b[1;32m--> 270\u001b[1;33m     \u001b[1;32mreturn\u001b[0m \u001b[0mUnpickler\u001b[0m\u001b[1;33m(\u001b[0m\u001b[0mfile\u001b[0m\u001b[1;33m,\u001b[0m \u001b[0mignore\u001b[0m\u001b[1;33m=\u001b[0m\u001b[0mignore\u001b[0m\u001b[1;33m,\u001b[0m \u001b[1;33m**\u001b[0m\u001b[0mkwds\u001b[0m\u001b[1;33m)\u001b[0m\u001b[1;33m.\u001b[0m\u001b[0mload\u001b[0m\u001b[1;33m(\u001b[0m\u001b[1;33m)\u001b[0m\u001b[1;33m\u001b[0m\u001b[1;33m\u001b[0m\u001b[0m\n\u001b[0m\u001b[0;32m    271\u001b[0m \u001b[1;33m\u001b[0m\u001b[0m\n\u001b[0;32m    272\u001b[0m \u001b[1;32mdef\u001b[0m \u001b[0mloads\u001b[0m\u001b[1;33m(\u001b[0m\u001b[0mstr\u001b[0m\u001b[1;33m,\u001b[0m \u001b[0mignore\u001b[0m\u001b[1;33m=\u001b[0m\u001b[1;32mNone\u001b[0m\u001b[1;33m,\u001b[0m \u001b[1;33m**\u001b[0m\u001b[0mkwds\u001b[0m\u001b[1;33m)\u001b[0m\u001b[1;33m:\u001b[0m\u001b[1;33m\u001b[0m\u001b[1;33m\u001b[0m\u001b[0m\n",
      "\u001b[1;32m~\\.conda\\envs\\pyCAP\\lib\\site-packages\\dill\\_dill.py\u001b[0m in \u001b[0;36mload\u001b[1;34m(self)\u001b[0m\n\u001b[0;32m    471\u001b[0m \u001b[1;33m\u001b[0m\u001b[0m\n\u001b[0;32m    472\u001b[0m     \u001b[1;32mdef\u001b[0m \u001b[0mload\u001b[0m\u001b[1;33m(\u001b[0m\u001b[0mself\u001b[0m\u001b[1;33m)\u001b[0m\u001b[1;33m:\u001b[0m \u001b[1;31m#NOTE: if settings change, need to update attributes\u001b[0m\u001b[1;33m\u001b[0m\u001b[1;33m\u001b[0m\u001b[0m\n\u001b[1;32m--> 473\u001b[1;33m         \u001b[0mobj\u001b[0m \u001b[1;33m=\u001b[0m \u001b[0mStockUnpickler\u001b[0m\u001b[1;33m.\u001b[0m\u001b[0mload\u001b[0m\u001b[1;33m(\u001b[0m\u001b[0mself\u001b[0m\u001b[1;33m)\u001b[0m\u001b[1;33m\u001b[0m\u001b[1;33m\u001b[0m\u001b[0m\n\u001b[0m\u001b[0;32m    474\u001b[0m         \u001b[1;32mif\u001b[0m \u001b[0mtype\u001b[0m\u001b[1;33m(\u001b[0m\u001b[0mobj\u001b[0m\u001b[1;33m)\u001b[0m\u001b[1;33m.\u001b[0m\u001b[0m__module__\u001b[0m \u001b[1;33m==\u001b[0m \u001b[0mgetattr\u001b[0m\u001b[1;33m(\u001b[0m\u001b[0m_main_module\u001b[0m\u001b[1;33m,\u001b[0m \u001b[1;34m'__name__'\u001b[0m\u001b[1;33m,\u001b[0m \u001b[1;34m'__main__'\u001b[0m\u001b[1;33m)\u001b[0m\u001b[1;33m:\u001b[0m\u001b[1;33m\u001b[0m\u001b[1;33m\u001b[0m\u001b[0m\n\u001b[0;32m    475\u001b[0m             \u001b[1;32mif\u001b[0m \u001b[1;32mnot\u001b[0m \u001b[0mself\u001b[0m\u001b[1;33m.\u001b[0m\u001b[0m_ignore\u001b[0m\u001b[1;33m:\u001b[0m\u001b[1;33m\u001b[0m\u001b[1;33m\u001b[0m\u001b[0m\n",
      "\u001b[1;32m~\\.conda\\envs\\pyCAP\\lib\\site-packages\\dill\\_dill.py\u001b[0m in \u001b[0;36mfind_class\u001b[1;34m(self, module, name)\u001b[0m\n\u001b[0;32m    461\u001b[0m             \u001b[1;32mreturn\u001b[0m \u001b[0mtype\u001b[0m\u001b[1;33m(\u001b[0m\u001b[1;32mNone\u001b[0m\u001b[1;33m)\u001b[0m \u001b[1;31m#XXX: special case: NoneType missing\u001b[0m\u001b[1;33m\u001b[0m\u001b[1;33m\u001b[0m\u001b[0m\n\u001b[0;32m    462\u001b[0m         \u001b[1;32mif\u001b[0m \u001b[0mmodule\u001b[0m \u001b[1;33m==\u001b[0m \u001b[1;34m'dill.dill'\u001b[0m\u001b[1;33m:\u001b[0m \u001b[0mmodule\u001b[0m \u001b[1;33m=\u001b[0m \u001b[1;34m'dill._dill'\u001b[0m\u001b[1;33m\u001b[0m\u001b[1;33m\u001b[0m\u001b[0m\n\u001b[1;32m--> 463\u001b[1;33m         \u001b[1;32mreturn\u001b[0m \u001b[0mStockUnpickler\u001b[0m\u001b[1;33m.\u001b[0m\u001b[0mfind_class\u001b[0m\u001b[1;33m(\u001b[0m\u001b[0mself\u001b[0m\u001b[1;33m,\u001b[0m \u001b[0mmodule\u001b[0m\u001b[1;33m,\u001b[0m \u001b[0mname\u001b[0m\u001b[1;33m)\u001b[0m\u001b[1;33m\u001b[0m\u001b[1;33m\u001b[0m\u001b[0m\n\u001b[0m\u001b[0;32m    464\u001b[0m \u001b[1;33m\u001b[0m\u001b[0m\n\u001b[0;32m    465\u001b[0m     \u001b[1;32mdef\u001b[0m \u001b[0m__init__\u001b[0m\u001b[1;33m(\u001b[0m\u001b[0mself\u001b[0m\u001b[1;33m,\u001b[0m \u001b[1;33m*\u001b[0m\u001b[0margs\u001b[0m\u001b[1;33m,\u001b[0m \u001b[1;33m**\u001b[0m\u001b[0mkwds\u001b[0m\u001b[1;33m)\u001b[0m\u001b[1;33m:\u001b[0m\u001b[1;33m\u001b[0m\u001b[1;33m\u001b[0m\u001b[0m\n",
      "\u001b[1;31mAttributeError\u001b[0m: Can't get attribute '_pass_extra_kwargs' on <module 'dask.array.core' from 'C:\\\\Users\\\\steph\\\\.conda\\\\envs\\\\pyCAP\\\\lib\\\\site-packages\\\\dask\\\\array\\\\core.py'>"
     ]
    }
   ],
   "source": [
    "exp = dill.load(open(r\"C:\\Users\\steph\\PycharmProjects\\pyCAP\\pyCAP\\testingOOP\\Pickle Storage\\20191119.pkl\", \"rb\"))"
   ]
  },
  {
   "cell_type": "code",
   "execution_count": null,
   "metadata": {},
   "outputs": [],
   "source": [
    "exp.data_ecap.calculate_AUC(window_type=\"standard_neural\", analysis_method=\"RMS\", plot_AUC=False)"
   ]
  },
  {
   "cell_type": "code",
   "execution_count": null,
   "metadata": {},
   "outputs": [],
   "source": [
    "df = exp.data_ecap.master_df"
   ]
  },
  {
   "cell_type": "code",
   "execution_count": null,
   "metadata": {},
   "outputs": [],
   "source": [
    "df"
   ]
  },
  {
   "cell_type": "markdown",
   "metadata": {},
   "source": [
    "### A-alpha without double vagotomy (RMS)"
   ]
  },
  {
   "cell_type": "code",
   "execution_count": null,
   "metadata": {},
   "outputs": [],
   "source": [
    "sns.set(style='ticks', rc={'figure.figsize':(5,10)})\n",
    "g1 = sns.relplot(x=\"Stimulation Amplitude\", y='AUC (Vs)', kind=\"line\", col=\"Stimulation Configuration\", \n",
    "            hue=\"Stimulation Channel\", \n",
    "            data=df[(df[\"Calculation Window\"] =='A-α') & (df[\"Condition\"] != \"Double Vagotomy\")\n",
    "                   & (df[\"Calculation Type\"] == 'RMS') & (df['Stimulation Amplitude'] != 1500) & (df['Recording Electrode'] != 0) & (df['Recording Electrode'] != 2)])\n",
    "\n",
    "g1.fig.suptitle('2019116 A-alpha via RMS')\n",
    "# plt.savefig('2019116 A-alpha via RMS.jpg')"
   ]
  },
  {
   "cell_type": "markdown",
   "metadata": {},
   "source": [
    "### A-alpha Intact (RMS)"
   ]
  },
  {
   "cell_type": "code",
   "execution_count": null,
   "metadata": {},
   "outputs": [],
   "source": [
    "sns.set(style='ticks', rc={'figure.figsize':(5,10)})\n",
    "g1 = sns.relplot(x=\"Stimulation Amplitude\", y='AUC (Vs)', kind=\"line\", col=\"Stimulation Configuration\", \n",
    "            hue=\"Stimulation Channel\", \n",
    "            data=df[(df[\"Calculation Window\"] =='A-α') & (df[\"Condition\"] == \"Intact\")\n",
    "                   & (df[\"Calculation Type\"] == 'RMS')])\n",
    "\n",
    "g1.fig.suptitle('2019116 A-alpha via RMS')\n",
    "# plt.savefig('2019116 A-alpha via RMS.jpg')"
   ]
  },
  {
   "cell_type": "markdown",
   "metadata": {},
   "source": [
    "### A-alpha without double vagotomy (Peaks)"
   ]
  },
  {
   "cell_type": "code",
   "execution_count": null,
   "metadata": {},
   "outputs": [],
   "source": [
    "sns.set(style='ticks', rc={'figure.figsize':(5,10)})\n",
    "g1 = sns.relplot(x=\"Stimulation Amplitude\", y='AUC (Vs)', kind=\"line\", col=\"Stimulation Configuration\", \n",
    "            hue=\"Stimulation Channel\", \n",
    "            data=df[(df[\"Calculation Window\"] =='A-α') & (df[\"Condition\"] != \"Double Vagotomy\")\n",
    "                   & (df[\"Calculation Type\"] == 'Peaks') & (df[\"Stimulation Channel\"] != 'Channel 2 - 3')])\n",
    "\n",
    "g1.fig.suptitle('2019116 A-alpha via Peaks')\n",
    "# plt.savefig('2019116 A-alpha via RMS.jpg')"
   ]
  },
  {
   "cell_type": "markdown",
   "metadata": {},
   "source": [
    "### A-alpha intact (Peaks)"
   ]
  },
  {
   "cell_type": "code",
   "execution_count": null,
   "metadata": {},
   "outputs": [],
   "source": [
    "sns.set(style='ticks', rc={'figure.figsize':(5,10)})\n",
    "g1 = sns.relplot(x=\"Stimulation Amplitude\", y='AUC (Vs)', kind=\"line\", col=\"Stimulation Configuration\", \n",
    "            hue=\"Stimulation Channel\", \n",
    "            data=df[(df[\"Calculation Window\"] =='A-α') & (df[\"Condition\"] == \"Intact\")\n",
    "                   & (df[\"Calculation Type\"] == 'Peaks')])\n",
    "\n",
    "g1.fig.suptitle('2019116 A-alpha via Peaks')\n",
    "# plt.savefig('2019116 A-alpha via RMS.jpg')"
   ]
  },
  {
   "cell_type": "markdown",
   "metadata": {},
   "source": [
    "### A-beta without Double Vagotomy"
   ]
  },
  {
   "cell_type": "code",
   "execution_count": null,
   "metadata": {},
   "outputs": [],
   "source": [
    "g1 = sns.relplot(x=\"Stimulation Amplitude\", y='AUC (Vs)', kind=\"line\", col=\"Stimulation Configuration\", \n",
    "            hue=\"Stimulation Channel\", \n",
    "            data=df[(df[\"Calculation Window\"] =='A-β') & (df[\"Condition\"] != \"Double Vagotomy\")],\n",
    "                height=5)"
   ]
  },
  {
   "cell_type": "markdown",
   "metadata": {},
   "source": [
    "### A-beta Intact via RMS"
   ]
  },
  {
   "cell_type": "code",
   "execution_count": null,
   "metadata": {
    "scrolled": true
   },
   "outputs": [],
   "source": [
    "sns.set(style='ticks', rc={'figure.figsize':(5,10)})\n",
    "g1 = sns.relplot(x=\"Stimulation Amplitude\", y='AUC (Vs)', kind=\"line\", col=\"Stimulation Configuration\", \n",
    "            hue=\"Stimulation Channel\", \n",
    "            data=df[(df[\"Calculation Window\"] =='A-β') & (df[\"Condition\"] == \"Intact\") & (df['Calculation Type'] == 'RMS')])\n",
    "g1.fig.suptitle('2019116 A-beta via RMS')\n",
    "plt.tight_layout()\n",
    "plt.savefig('2019116 A-beta via RMS.jpg')"
   ]
  },
  {
   "cell_type": "markdown",
   "metadata": {},
   "source": [
    "### A-beta Intact via Peaks"
   ]
  },
  {
   "cell_type": "code",
   "execution_count": null,
   "metadata": {
    "scrolled": true
   },
   "outputs": [],
   "source": [
    "sns.set(style='ticks', rc={'figure.figsize':(5,10)})\n",
    "g1 = sns.relplot(x=\"Stimulation Amplitude\", y='AUC (Vs)', kind=\"line\", col=\"Stimulation Configuration\", \n",
    "            hue=\"Stimulation Channel\", \n",
    "            data=df[(df[\"Calculation Window\"] =='A-β') & (df[\"Condition\"] == \"Intact\") & (df['Calculation Type'] == 'Peaks')])\n",
    "g1.fig.suptitle('2019116 A-beta via Peak Detection')\n",
    "plt.savefig('2019116 A-beta via Peak Detection.jpg')"
   ]
  },
  {
   "cell_type": "markdown",
   "metadata": {},
   "source": [
    "### A-delta muscle block (RMS)"
   ]
  },
  {
   "cell_type": "code",
   "execution_count": null,
   "metadata": {},
   "outputs": [],
   "source": [
    "g1 = sns.relplot(x=\"Stimulation Amplitude\", y='AUC (Vs)', kind=\"line\", col=\"Stimulation Configuration\", \n",
    "            hue=\"Stimulation Channel\", \n",
    "            data=df[(df[\"Calculation Window\"] =='A-δ') & (df[\"Condition\"] == \"Muscle Block\") & (df[\"Calculation Type\"] == \"RMS\")])"
   ]
  },
  {
   "cell_type": "markdown",
   "metadata": {},
   "source": [
    "### A-delta muscle block (Peaks)"
   ]
  },
  {
   "cell_type": "code",
   "execution_count": null,
   "metadata": {},
   "outputs": [],
   "source": [
    "g1 = sns.relplot(x=\"Stimulation Amplitude\", y='AUC (Vs)', kind=\"line\", col=\"Stimulation Configuration\", \n",
    "            hue=\"Stimulation Channel\", \n",
    "            data=df[(df[\"Calculation Window\"] =='A-δ') & (df[\"Condition\"] == \"Muscle Block\") & (df[\"Calculation Type\"] == \"Peaks\")])"
   ]
  },
  {
   "cell_type": "markdown",
   "metadata": {},
   "source": [
    "### B fibers without Double Vagotomy"
   ]
  },
  {
   "cell_type": "code",
   "execution_count": null,
   "metadata": {},
   "outputs": [],
   "source": [
    "g1 = sns.relplot(x=\"Stimulation Amplitude\", y='AUC (Vs)', kind=\"line\", col=\"Stimulation Configuration\", \n",
    "            hue=\"Stimulation Channel\", \n",
    "            data=df[(df[\"Calculation Window\"] =='B') & (df[\"Condition\"] != \"Double Vagotomy\")]) "
   ]
  },
  {
   "cell_type": "markdown",
   "metadata": {},
   "source": [
    "### B Intact Only"
   ]
  },
  {
   "cell_type": "code",
   "execution_count": null,
   "metadata": {},
   "outputs": [],
   "source": [
    "g1 = sns.relplot(x=\"Stimulation Amplitude\", y='AUC (Vs)', kind=\"line\", col=\"Stimulation Configuration\", \n",
    "            hue=\"Stimulation Channel\", \n",
    "            data=df[(df[\"Calculation Window\"] =='B') & (df[\"Condition\"] == \"Muscle Block\")]) "
   ]
  },
  {
   "cell_type": "code",
   "execution_count": null,
   "metadata": {},
   "outputs": [],
   "source": [
    "g1 = sns.relplot(x=\"Stimulation Amplitude\", y='AUC (Vs)', kind=\"line\", col=\"Stimulation Configuration\", \n",
    "            hue=\"Stimulation Channel\", \n",
    "            data=df[(df[\"Calculation Window\"] =='A-β')\n",
    "                    & (df[\"Condition\"] == \"Muscle Block\")\n",
    "                    & (df[\"Calculation Type\"] == 'Peaks')\n",
    "\n",
    "                   ])\n",
    "\n",
    "g1.fig.suptitle('2019116 A-alpha via Peaks')"
   ]
  },
  {
   "cell_type": "code",
   "execution_count": null,
   "metadata": {},
   "outputs": [],
   "source": [
    "g1 = sns.relplot(x=\"Stimulation Amplitude\", y='AUC (Vs)', kind=\"line\", col=\"Stimulation Configuration\", \n",
    "            hue=\"Stimulation Channel\", \n",
    "            data=df[(df[\"Calculation Window\"] =='A-δ')\n",
    "                    & (df[\"Condition\"] == \"Double Vagotomy\")\n",
    "                    & (df[\"Calculation Type\"] == 'RMS')\n",
    "\n",
    "                   ])\n",
    "\n"
   ]
  },
  {
   "cell_type": "code",
   "execution_count": null,
   "metadata": {},
   "outputs": [],
   "source": [
    "exp.data_ecap.plot_window(condition=\"Muscle Block\", amplitude=-2000, stim_channel='Channel 1')\n",
    "plt.ylim(-.0001,.0001)"
   ]
  },
  {
   "cell_type": "code",
   "execution_count": null,
   "metadata": {},
   "outputs": [],
   "source": [
    "exp.data_stim.parameters.condition.unique()"
   ]
  },
  {
   "cell_type": "code",
   "execution_count": null,
   "metadata": {},
   "outputs": [],
   "source": [
    "phys_df = dill.load(open(r\"C:\\Users\\steph\\20191216_phys.pkl\", \"rb\"))"
   ]
  },
  {
   "cell_type": "code",
   "execution_count": null,
   "metadata": {},
   "outputs": [],
   "source": [
    "phys_df"
   ]
  },
  {
   "cell_type": "code",
   "execution_count": null,
   "metadata": {},
   "outputs": [],
   "source": [
    "g1 = sns.relplot(x=\"Stimulation Amplitude\", y='delta', kind=\"line\", col=\"Stimulation Configuration\", \n",
    "            hue=\"Stimulation Channel\", ci=75,\n",
    "            data=phys_df[phys_df[\"Condition\"] == \"Intact\"])\n",
    "\n",
    "g1.fig.suptitle('2019116 A-alpha via Peaks')"
   ]
  },
  {
   "cell_type": "code",
   "execution_count": null,
   "metadata": {},
   "outputs": [],
   "source": [
    "phys_df[phys_df[\"Condition\"] == \"Intact\"]"
   ]
  },
  {
   "cell_type": "code",
   "execution_count": null,
   "metadata": {},
   "outputs": [],
   "source": []
  }
 ],
 "metadata": {
  "kernelspec": {
   "display_name": "Python 3",
   "language": "python",
   "name": "python3"
  },
  "language_info": {
   "codemirror_mode": {
    "name": "ipython",
    "version": 3
   },
   "file_extension": ".py",
   "mimetype": "text/x-python",
   "name": "python",
   "nbconvert_exporter": "python",
   "pygments_lexer": "ipython3",
   "version": "3.8.5"
  }
 },
 "nbformat": 4,
 "nbformat_minor": 4
}
