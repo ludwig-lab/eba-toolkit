{
 "cells": [
  {
   "cell_type": "markdown",
   "metadata": {},
   "source": [
    "# Tutotial 02 - Interacting With and Plotting Ehys Data \n",
    "\n",
    "In Tutorial 1 - Introduction to pyCAP, we covered loading and making a simple plot of a single data set. Here we will expand upon this to cover  working with channel types and channel names as well as loading multiple data sets. We can start by importing pyCAP and loading a data set."
   ]
  },
  {
   "cell_type": "code",
   "execution_count": 13,
   "metadata": {},
   "outputs": [
    {
     "name": "stdout",
     "output_type": "stream",
     "text": [
      "read from t=0s to t=857.03s\n"
     ]
    }
   ],
   "source": [
    "import pyCAP\n",
    "\n",
    "# path to directory containing the TDT tank\n",
    "directory = r'D:\\20190925\\TDT\\Imthera_Pig_Exeriment_25Hz-190925\\pnpig0341-190925-145933'\n",
    "data = pyCAP.Ephys(directory, stores=['RawE','RawG'])"
   ]
  },
  {
   "cell_type": "markdown",
   "metadata": {},
   "source": [
    "## Working with Channels and Channel Types\n",
    "\n",
    "This data set was collected with a Tucker Davis Technologies (TDT) recording system. The Ephys class automatically maps the data on your computer's hard disk. This data set contains two streams of Ephys data, called 'RawE' and 'RawG' that we collected in different stores within the TDT data tank (more information on how TDT data types are stored and accessed can be found here: https://www.tdt.com/support/python-sdk/). The data within stores 'RawE' and 'RawG' were automatically detected by pyCAP.\n",
    "\n",
    "We can use the _ch_names_ property of an Ephys object to look at the number of channels. We see that this data set has 8 channels, which were automatically named by pyCAP byased on the stream name assaigned within the TDT software."
   ]
  },
  {
   "cell_type": "code",
   "execution_count": 14,
   "metadata": {},
   "outputs": [
    {
     "data": {
      "text/plain": [
       "['RawE 1',\n",
       " 'RawE 2',\n",
       " 'RawE 3',\n",
       " 'RawE 4',\n",
       " 'RawG 1',\n",
       " 'RawG 2',\n",
       " 'RawG 3',\n",
       " 'RawG 4']"
      ]
     },
     "execution_count": 14,
     "metadata": {},
     "output_type": "execute_result"
    }
   ],
   "source": [
    "data.ch_names"
   ]
  },
  {
   "cell_type": "markdown",
   "metadata": {},
   "source": [
    "In this experiment, 'RawE' contains data recorded from 4 LIFE electrodes inserted into the swine vagus nerve, and 'RawG' contains data recorded from EMG electrodes inserted into relevent muscle groups. Although 'RawE' contains 4 channels of data, only 3 electrodes in channels 'RawG 1'-'RawG 3' were used in the experiment. We can start by removing the extra channel of EMG data from the data set and renamving the channels to something that makes more sense. We will also set the channel types to either 'EMG' or 'LIFE' so that we can independently interact with these channels through the rest of our analysis.\n",
    "\n",
    "It is important to note that all operations that change an object within pyCAP return a new object. For those familiar with other scientific conputing languages in python like numpy or pandas, pyCAP objects are never modified in place like numpy arrays or padas dataframes can be."
   ]
  },
  {
   "cell_type": "code",
   "execution_count": 15,
   "metadata": {},
   "outputs": [],
   "source": [
    "# Starting by removing the excess channel 'RawG 4'. We could do this either by the index in the channel list (7) or using the channel name directly. \n",
    "used_data = data.remove_ch('RawG 4')\n",
    "\n",
    "# We can rename the channels using the set_ch_names method and providing a list of new channel names that matches the number of channels in the data set.\n",
    "renamed_data = used_data.set_ch_names(['LIFE 1', 'LIFE 2', 'LIFE 3', 'LIFE 4', 'EMG 1', 'EMG 2', 'EMG 3'])\n",
    "\n",
    "# Lets also set the types of the individual channels so that we can indepentently interact with LIFE and EMG channels\n",
    "renamed_data = renamed_data.set_ch_types(['LIFE', 'LIFE', 'LIFE', 'LIFE', 'EMG', 'EMG', 'EMG'])"
   ]
  },
  {
   "cell_type": "code",
   "execution_count": 16,
   "metadata": {},
   "outputs": [
    {
     "data": {
      "text/plain": [
       "(8, 20922368)"
      ]
     },
     "execution_count": 16,
     "metadata": {},
     "output_type": "execute_result"
    }
   ],
   "source": [
    "data.shape"
   ]
  },
  {
   "cell_type": "markdown",
   "metadata": {},
   "source": [
    "We can compare a plot of data with a plot of renamed_data to see the changes in the number of channels and in the prescribed channel names. We can plot these side by side in figure subplots using matplotlib. "
   ]
  },
  {
   "cell_type": "code",
   "execution_count": 17,
   "metadata": {},
   "outputs": [
    {
     "name": "stdout",
     "output_type": "stream",
     "text": [
      "test1\n",
      "test2\n",
      "test1\n",
      "test2\n"
     ]
    },
    {
     "data": {
      "application/vnd.jupyter.widget-view+json": {
       "model_id": "",
       "version_major": 2,
       "version_minor": 0
      },
      "text/plain": [
       "FigureCanvasNbAgg(layout=Layout(grid_area='center', min_height='400px', min_width='400px'))"
      ]
     },
     "metadata": {},
     "output_type": "display_data"
    },
    {
     "data": {
      "application/vnd.jupyter.widget-view+json": {
       "model_id": "",
       "version_major": 2,
       "version_minor": 0
      },
      "text/plain": [
       "FigureCanvasNbAgg()"
      ]
     },
     "metadata": {},
     "output_type": "display_data"
    }
   ],
   "source": [
    "# import matplotlib\n",
    "import matplotlib.pyplot as plt\n",
    "\n",
    "# Set up figure axes that we can plot on\n",
    "fig, (ax1, ax2) = plt.subplots(1, 2, figsize=(16,6))\n",
    "fig.suptitle('Organization and renaming of channels is automatically reflected in plots of the data')\n",
    "\n",
    "# Label axes and plot data. \n",
    "ax1.set_title('data')\n",
    "# The axis attribute is used to provide a matplotlib axis to plot on.\n",
    "# Show is set to False to prevent the plot function from automatically showing the plot within the jupyter notebook.\n",
    "data.plot(axis = ax1, x_lim=(0,5), show=False)\n",
    "ax2.set_title('renamed_data')\n",
    "renamed_data.plot(axis = ax2, x_lim=(5.607e2,5.6075e2), show=False)\n",
    "\n",
    "# Tell matplotlib to show the plot within a jupyter notebook\n",
    "plt.show()"
   ]
  },
  {
   "cell_type": "markdown",
   "metadata": {},
   "source": [
    "## Interactive Plotting of Data\n",
    "\n",
    "One of the main goals of pyCAP is to allow for interactively working with electrophysiology, and in particular compound action potential, data during or shortly after an experiment. As such, many plot types have been designed as jupyter notebook widgets and can be taken advantage of to interactively work with data or to view data in real time.\n",
    "\n",
    "The most simple example of this is the plot method for the ephys class. By passhing show='notebook' as an attribute to the plot method, an interactive plot is shown within the current jupyter notebook output cell. \n",
    "\n",
    "However, before using interactive plots we need to change matplotlib to use an interactive backend. We can do this using the a Jupyter Notebook magic (for more information on jupyter notebook magics see this tutorial: https://ipython.readthedocs.io/en/stable/interactive/magics.html#magic-matplotlib). In our case we want to use the magic command '%matplotlib widget'. If we switch back to '%matplotlib inline' which is the default mode for matplotlib, it will break our connection to any widgets in use. As such it is a good idea to only work with matplotlib in inline or widget mode within a given notebook."
   ]
  },
  {
   "cell_type": "code",
   "execution_count": 18,
   "metadata": {
    "scrolled": false
   },
   "outputs": [
    {
     "name": "stdout",
     "output_type": "stream",
     "text": [
      "test1\n",
      "test2\n"
     ]
    },
    {
     "data": {
      "application/vnd.jupyter.widget-view+json": {
       "model_id": "1b10b08fd37243619056967a350b7737",
       "version_major": 2,
       "version_minor": 0
      },
      "text/plain": [
       "AppLayout(children=(Output(layout=Layout(grid_area='header')), FloatSlider(value=0.0, description='Start Time:…"
      ]
     },
     "metadata": {},
     "output_type": "display_data"
    }
   ],
   "source": [
    "%matplotlib widget\n",
    "renamed_data.plot(x_lim = (0,0.1), show='notebook')"
   ]
  },
  {
   "cell_type": "markdown",
   "metadata": {},
   "source": [
    "Any plot that we create can be used with the matplotlib widget backend. As an example, we can replicate the side-by-side plot of data and renamed data that we created above using the widget backend instead of the inline backend."
   ]
  },
  {
   "cell_type": "code",
   "execution_count": 18,
   "metadata": {},
   "outputs": [
    {
     "name": "stdout",
     "output_type": "stream",
     "text": [
      "test1\n",
      "test2\n",
      "test1\n",
      "test2\n"
     ]
    },
    {
     "data": {
      "application/vnd.jupyter.widget-view+json": {
       "model_id": "d4ec675fa0494a68a5a0bf651126dd36",
       "version_major": 2,
       "version_minor": 0
      },
      "text/plain": [
       "Canvas(footer_visible=False, header_visible=False, layout=Layout(grid_area='center', min_height='400px', min_w…"
      ]
     },
     "metadata": {},
     "output_type": "display_data"
    },
    {
     "data": {
      "application/vnd.jupyter.widget-view+json": {
       "model_id": "4a0c486a969a4f74a4e1b0e5128a6a2f",
       "version_major": 2,
       "version_minor": 0
      },
      "text/plain": [
       "Canvas(toolbar=Toolbar(toolitems=[('Home', 'Reset original view', 'home', 'home'), ('Back', 'Back to previous …"
      ]
     },
     "metadata": {},
     "output_type": "display_data"
    }
   ],
   "source": [
    "# import matplotlib\n",
    "import matplotlib.pyplot as plt\n",
    "\n",
    "# Set up figure axes that we can plot on\n",
    "fig, (ax1, ax2) = plt.subplots(1, 2, figsize=(10,4))\n",
    "fig.suptitle('Organization and renaming of channels is automatically reflected in plots of the data')\n",
    "\n",
    "# Label axes and plot data. \n",
    "ax1.set_title('data')\n",
    "# The axis attribute is used to provide a matplotlib axis to plot on.\n",
    "# Show is set to False to prevent the plot function from automatically showing the plot within the jupyter notebook.\n",
    "data.plot(axis = ax1, x_lim=(0,5), show=False)\n",
    "ax2.set_title('renamed_data')\n",
    "renamed_data.plot(axis = ax2, x_lim=(0,5), show=False)\n",
    "\n",
    "# Tell matplotlib to show the plot within a jupyter notebook\n",
    "plt.show()"
   ]
  },
  {
   "cell_type": "markdown",
   "metadata": {},
   "source": [
    "## Directly Working with Ephys Data as an Array\n",
    "\n",
    "It is common that we will want extract portions of our data to directly work with as an array of values. In python the normal way to work with array data is as a numpy array. An introduction to numpy arrays can be found here (https://numpy.org/doc/stable/user/quickstart.html). For all intents and purposes, we can treat an ephys object as numpy arrays with shape equal to *number of channels* x *number of data points*."
   ]
  },
  {
   "cell_type": "code",
   "execution_count": 11,
   "metadata": {},
   "outputs": [
    {
     "data": {
      "text/plain": [
       "(7, 20893696)"
      ]
     },
     "execution_count": 11,
     "metadata": {},
     "output_type": "execute_result"
    }
   ],
   "source": [
    "renamed_data.shape"
   ]
  },
  {
   "cell_type": "markdown",
   "metadata": {},
   "source": [
    "Data can be directly accessed by indexing into the data set. For instance we can return the first 10 elements of channel 0 in *renamed_data* using the follwoing code. All numpy indexing methods are supported."
   ]
  },
  {
   "cell_type": "code",
   "execution_count": 13,
   "metadata": {},
   "outputs": [
    {
     "data": {
      "text/plain": [
       "array([-2.0671998e-05, -1.6127999e-05, -1.4527999e-05, -2.3359999e-05,\n",
       "       -1.2543999e-05, -2.1695998e-05, -1.8111999e-05, -2.5983998e-05,\n",
       "       -2.4767998e-05, -1.7983999e-05], dtype=float32)"
      ]
     },
     "execution_count": 13,
     "metadata": {},
     "output_type": "execute_result"
    }
   ],
   "source": [
    "renamed_data[0,0:10]"
   ]
  },
  {
   "cell_type": "markdown",
   "metadata": {},
   "source": [
    "In addition to working with Ephys data as a numpy array, there are a number of useful properties that are worth knowing about. Some of the most useful ones are:\n",
    "\n",
    "* sample_rate\n",
    " - Gives the sampling rate for the data set.\n",
    "* time\n",
    " - Returns as array starting at zero of time points corresponding to each data point within the data set.\n",
    "* ch_names\n",
    " - Returns a list of names for each channel within the data set. \n",
    "* ch_types\n",
    " - Returns a list of types assigned to each channel in the data set.\n",
    " \n",
    " \n",
    " For instance, we can easily see that the sampling rate of *renamed_data* is a little under 25kHz:"
   ]
  },
  {
   "cell_type": "code",
   "execution_count": 15,
   "metadata": {},
   "outputs": [
    {
     "data": {
      "text/plain": [
       "24414.0625"
      ]
     },
     "execution_count": 15,
     "metadata": {},
     "output_type": "execute_result"
    }
   ],
   "source": [
    "renamed_data.sample_rate"
   ]
  },
  {
   "cell_type": "markdown",
   "metadata": {},
   "source": [
    "We can also check that the channel names match what we previously set them to:"
   ]
  },
  {
   "cell_type": "code",
   "execution_count": 16,
   "metadata": {},
   "outputs": [
    {
     "data": {
      "text/plain": [
       "['LIFE 1', 'LIFE 2', 'LIFE 3', 'LIFE 4', 'EMG 1', 'EMG 2', 'EMG 3']"
      ]
     },
     "execution_count": 16,
     "metadata": {},
     "output_type": "execute_result"
    }
   ],
   "source": [
    "renamed_data.ch_names"
   ]
  },
  {
   "cell_type": "markdown",
   "metadata": {},
   "source": [
    "Lastly we can see that there are two channel types contained within *renamed_data*. These channel types match what we previously assigned to the data set:"
   ]
  },
  {
   "cell_type": "code",
   "execution_count": 17,
   "metadata": {},
   "outputs": [
    {
     "data": {
      "text/plain": [
       "['LIFE', 'EMG']"
      ]
     },
     "execution_count": 17,
     "metadata": {},
     "output_type": "execute_result"
    }
   ],
   "source": [
    "renamed_data.ch_types"
   ]
  },
  {
   "cell_type": "code",
   "execution_count": 21,
   "metadata": {},
   "outputs": [
    {
     "name": "stdout",
     "output_type": "stream",
     "text": [
      "test1\n",
      "test2\n"
     ]
    },
    {
     "data": {
      "application/vnd.jupyter.widget-view+json": {
       "model_id": "",
       "version_major": 2,
       "version_minor": 0
      },
      "text/plain": [
       "FigureCanvasNbAgg()"
      ]
     },
     "metadata": {},
     "output_type": "display_data"
    },
    {
     "data": {
      "application/vnd.jupyter.widget-view+json": {
       "model_id": "",
       "version_major": 2,
       "version_minor": 0
      },
      "text/plain": [
       "FigureCanvasNbAgg()"
      ]
     },
     "metadata": {},
     "output_type": "display_data"
    }
   ],
   "source": [
    "renamed_data.plot(x_lim=(13.72,13.74), show=False)\n",
    "plt.show()"
   ]
  },
  {
   "cell_type": "code",
   "execution_count": null,
   "metadata": {},
   "outputs": [],
   "source": []
  }
 ],
 "metadata": {
  "kernelspec": {
   "display_name": "Python 3",
   "language": "python",
   "name": "python3"
  },
  "language_info": {
   "codemirror_mode": {
    "name": "ipython",
    "version": 3
   },
   "file_extension": ".py",
   "mimetype": "text/x-python",
   "name": "python",
   "nbconvert_exporter": "python",
   "pygments_lexer": "ipython3",
   "version": "3.7.9"
  }
 },
 "nbformat": 4,
 "nbformat_minor": 4
}
